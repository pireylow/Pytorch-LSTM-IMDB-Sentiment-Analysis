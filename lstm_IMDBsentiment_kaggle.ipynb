{
 "cells": [
  {
   "cell_type": "code",
   "execution_count": 22,
   "metadata": {},
   "outputs": [],
   "source": [
    "import numpy as np\n",
    "import pandas as pd\n",
    "\n",
    "import torch\n",
    "import torchvision\n",
    "import torch.nn as nn   # neural network modules\n",
    "import torch.optim as optim   # optimization algorithms\n",
    "import torch.nn.functional as F   # functions without parameters like activation functions\n",
    "from torch.utils.data import TensorDataset, DataLoader, Dataset   # dataset management, create batches\n",
    "import torchvision.datasets as datasets   # standard datasets on pytorch\n",
    "import torchvision.transforms as transforms   #transform datasets\n",
    "\n",
    "import matplotlib.pyplot as plt\n",
    "\n",
    "# PyTorch TensorBoard support\n",
    "from torch.utils.tensorboard import SummaryWriter\n",
    "from datetime import datetime"
   ]
  },
  {
   "cell_type": "code",
   "execution_count": 23,
   "metadata": {},
   "outputs": [],
   "source": [
    "device = torch.device('cuda' if torch.cuda.is_available() else 'cpu')"
   ]
  },
  {
   "cell_type": "code",
   "execution_count": 24,
   "metadata": {},
   "outputs": [
    {
     "name": "stdout",
     "output_type": "stream",
     "text": [
      "Full train dataset shape is (50000, 2)\n"
     ]
    }
   ],
   "source": [
    "train_dataset = pd.read_csv(\"IMDB_Dataset.csv\")\n",
    "\n",
    "print(f\"Full train dataset shape is {train_dataset.shape}\")"
   ]
  },
  {
   "cell_type": "code",
   "execution_count": 25,
   "metadata": {},
   "outputs": [],
   "source": [
    "train_dataset = train_dataset.sample(frac=0.2, random_state=123)"
   ]
  },
  {
   "cell_type": "code",
   "execution_count": 26,
   "metadata": {},
   "outputs": [
    {
     "data": {
      "text/html": [
       "<div>\n",
       "<style scoped>\n",
       "    .dataframe tbody tr th:only-of-type {\n",
       "        vertical-align: middle;\n",
       "    }\n",
       "\n",
       "    .dataframe tbody tr th {\n",
       "        vertical-align: top;\n",
       "    }\n",
       "\n",
       "    .dataframe thead th {\n",
       "        text-align: right;\n",
       "    }\n",
       "</style>\n",
       "<table border=\"1\" class=\"dataframe\">\n",
       "  <thead>\n",
       "    <tr style=\"text-align: right;\">\n",
       "      <th></th>\n",
       "      <th>review</th>\n",
       "      <th>sentiment</th>\n",
       "    </tr>\n",
       "  </thead>\n",
       "  <tbody>\n",
       "    <tr>\n",
       "      <th>11872</th>\n",
       "      <td>This movie was beyond awful, it was a pimple o...</td>\n",
       "      <td>negative</td>\n",
       "    </tr>\n",
       "    <tr>\n",
       "      <th>40828</th>\n",
       "      <td>As of this writing John Carpenter's 'Halloween...</td>\n",
       "      <td>positive</td>\n",
       "    </tr>\n",
       "    <tr>\n",
       "      <th>36400</th>\n",
       "      <td>I must admit a slight disappointment with this...</td>\n",
       "      <td>positive</td>\n",
       "    </tr>\n",
       "    <tr>\n",
       "      <th>5166</th>\n",
       "      <td>Oh dear! The BBC is not about to be knocked of...</td>\n",
       "      <td>negative</td>\n",
       "    </tr>\n",
       "    <tr>\n",
       "      <th>30273</th>\n",
       "      <td>its a totally average film with a few semi-alr...</td>\n",
       "      <td>negative</td>\n",
       "    </tr>\n",
       "  </tbody>\n",
       "</table>\n",
       "</div>"
      ],
      "text/plain": [
       "                                                  review sentiment\n",
       "11872  This movie was beyond awful, it was a pimple o...  negative\n",
       "40828  As of this writing John Carpenter's 'Halloween...  positive\n",
       "36400  I must admit a slight disappointment with this...  positive\n",
       "5166   Oh dear! The BBC is not about to be knocked of...  negative\n",
       "30273  its a totally average film with a few semi-alr...  negative"
      ]
     },
     "execution_count": 26,
     "metadata": {},
     "output_type": "execute_result"
    }
   ],
   "source": [
    "train_dataset.head()"
   ]
  },
  {
   "cell_type": "code",
   "execution_count": 27,
   "metadata": {},
   "outputs": [],
   "source": [
    "#train_dataset['review'][0]"
   ]
  },
  {
   "cell_type": "code",
   "execution_count": 28,
   "metadata": {},
   "outputs": [
    {
     "data": {
      "text/plain": [
       "229.3021"
      ]
     },
     "execution_count": 28,
     "metadata": {},
     "output_type": "execute_result"
    }
   ],
   "source": [
    "train_dataset['review'].str.split().str.len().mean()"
   ]
  },
  {
   "cell_type": "code",
   "execution_count": 29,
   "metadata": {},
   "outputs": [],
   "source": [
    "from transformers import DistilBertTokenizer   # frequently used for sentiment analysis\n",
    "tokenizer = DistilBertTokenizer.from_pretrained('distilbert-base-uncased')"
   ]
  },
  {
   "cell_type": "code",
   "execution_count": 30,
   "metadata": {},
   "outputs": [],
   "source": [
    "# create a class to tokenize the dataset\n",
    "\n",
    "class SentimentDataset(Dataset):\n",
    "    def __init__(self, texts, labels):\n",
    "        self.texts = texts\n",
    "        self.labels = labels\n",
    "        \n",
    "    def __len__(self):   #returns the length of the dataset, which is the number of samples or instances in the dataset\n",
    "        return len(self.texts)\n",
    "    \n",
    "    def __getitem__(self, index):   #retrieving a single sample from the dataset based on the provided index\n",
    "        text = self.texts[index]\n",
    "        label = self.labels[index]\n",
    "        #retrieves text and label at the given index from their lists respectively\n",
    "        \n",
    "        #used to tokenize the input text using the specified tokenizer\n",
    "        encoding = tokenizer.encode_plus(\n",
    "            text,\n",
    "            add_special_tokens=True,   #Adds special tokens like [CLS] (start token) and [SEP] (separator token) to mark the beginning and end of the text\n",
    "            padding='max_length',   #Pads or truncates the tokenized text to a fixed length specified by max_length\n",
    "            truncation=True,   #Truncates the text if it exceeds the maximum length\n",
    "            max_length=512,   #Specifies the maximum length of the tokenized sequence\n",
    "            return_tensors='pt'   #Returns the tokenized tensors in PyTorch format\n",
    "        )\n",
    "        #encoding object contains the tokenized input --> extract the input_ids and attention_mask tensors from it\n",
    "        #The squeeze() function is used to remove any unnecessary dimensions from the tensors\n",
    "        input_ids = encoding['input_ids'].squeeze()\n",
    "        attention_mask = encoding['attention_mask'].squeeze()\n",
    "        \n",
    "        return {\n",
    "            'input_ids': input_ids,\n",
    "            'attention_mask': attention_mask,\n",
    "            'label': torch.tensor(label)\n",
    "        }\n",
    "        #returns a dictionary that contains the tokenized input (input_ids and attention_mask) along with the corresponding label (torch.tensor(label)). \n",
    "        #The input tensors are ready to be fed into the LSTM model, and the label is converted to a PyTorch tensor"
   ]
  },
  {
   "cell_type": "code",
   "execution_count": 31,
   "metadata": {},
   "outputs": [
    {
     "name": "stdout",
     "output_type": "stream",
     "text": [
      "shape of train data is (8000,)\n",
      "shape of test data is (2000,)\n"
     ]
    }
   ],
   "source": [
    "from sklearn.model_selection import train_test_split\n",
    "X,y = train_dataset['review'].values, train_dataset['sentiment'].values\n",
    "x_train,x_test,y_train,y_test = train_test_split(X,y, test_size = 0.2, stratify=y)\n",
    "# split the dataset into train and test sets in a way that preserves the same proportions of examples in each class as observed in the original dataset\n",
    "\n",
    "print(f'shape of train data is {x_train.shape}')\n",
    "print(f'shape of test data is {x_test.shape}')"
   ]
  },
  {
   "cell_type": "code",
   "execution_count": 32,
   "metadata": {},
   "outputs": [],
   "source": [
    "label_map = {'negative': 0, 'positive': 1}\n",
    "\n",
    "# Convert labels to numerical values\n",
    "y_train = np.array([label_map[label] for label in y_train])\n",
    "y_test = np.array([label_map[label] for label in y_test])\n",
    "\n",
    "train_dataset = SentimentDataset(x_train, y_train)\n",
    "test_dataset = SentimentDataset(x_test, y_test)"
   ]
  },
  {
   "cell_type": "code",
   "execution_count": 33,
   "metadata": {},
   "outputs": [
    {
     "name": "stdout",
     "output_type": "stream",
     "text": [
      "30522\n"
     ]
    }
   ],
   "source": [
    "vocab_size = len(tokenizer.vocab)\n",
    "print(vocab_size)"
   ]
  },
  {
   "cell_type": "code",
   "execution_count": 34,
   "metadata": {},
   "outputs": [],
   "source": [
    "#print(tokenizer.vocab)"
   ]
  },
  {
   "cell_type": "code",
   "execution_count": 35,
   "metadata": {},
   "outputs": [],
   "source": [
    "batch_size = 64\n",
    "train_loader = DataLoader(train_dataset, batch_size=batch_size, shuffle=True)\n",
    "val_loader = DataLoader(test_dataset, batch_size=batch_size)"
   ]
  },
  {
   "cell_type": "code",
   "execution_count": 36,
   "metadata": {},
   "outputs": [
    {
     "name": "stdout",
     "output_type": "stream",
     "text": [
      "Sample 0: {'input_ids': tensor([[  101,  1045, 12860,  ...,  1010,  4901,   102],\n",
      "        [  101,  2023,  2003,  ...,     0,     0,     0],\n",
      "        [  101,  1045,  1005,  ...,     0,     0,     0],\n",
      "        ...,\n",
      "        [  101,  2043,  1045,  ...,     0,     0,     0],\n",
      "        [  101,  3532, 11280,  ...,     0,     0,     0],\n",
      "        [  101,  2009,  1005,  ...,     0,     0,     0]]), 'attention_mask': tensor([[1, 1, 1,  ..., 1, 1, 1],\n",
      "        [1, 1, 1,  ..., 0, 0, 0],\n",
      "        [1, 1, 1,  ..., 0, 0, 0],\n",
      "        ...,\n",
      "        [1, 1, 1,  ..., 0, 0, 0],\n",
      "        [1, 1, 1,  ..., 0, 0, 0],\n",
      "        [1, 1, 1,  ..., 0, 0, 0]]), 'label': tensor([1, 0, 0, 1, 1, 1, 0, 0, 1, 1, 1, 1, 1, 0, 0, 0, 1, 0, 0, 0, 0, 1, 0, 1,\n",
      "        1, 0, 1, 1, 0, 0, 1, 0, 1, 1, 1, 1, 1, 0, 1, 1, 0, 1, 0, 1, 1, 1, 0, 1,\n",
      "        0, 0, 0, 1, 1, 1, 0, 1, 0, 1, 1, 1, 0, 0, 0, 1])}\n",
      "Sample 1: {'input_ids': tensor([[ 101, 2025, 2069,  ...,    0,    0,    0],\n",
      "        [ 101, 2017, 2763,  ...,    0,    0,    0],\n",
      "        [ 101, 1045, 2001,  ...,    0,    0,    0],\n",
      "        ...,\n",
      "        [ 101, 2023, 3185,  ...,    0,    0,    0],\n",
      "        [ 101, 2000, 2621,  ...,    0,    0,    0],\n",
      "        [ 101, 2798, 1000,  ...,    0,    0,    0]]), 'attention_mask': tensor([[1, 1, 1,  ..., 0, 0, 0],\n",
      "        [1, 1, 1,  ..., 0, 0, 0],\n",
      "        [1, 1, 1,  ..., 0, 0, 0],\n",
      "        ...,\n",
      "        [1, 1, 1,  ..., 0, 0, 0],\n",
      "        [1, 1, 1,  ..., 0, 0, 0],\n",
      "        [1, 1, 1,  ..., 0, 0, 0]]), 'label': tensor([1, 0, 1, 0, 1, 1, 0, 1, 0, 0, 0, 1, 1, 0, 0, 0, 0, 0, 1, 1, 1, 0, 1, 0,\n",
      "        1, 0, 0, 0, 0, 0, 1, 0, 0, 1, 0, 1, 0, 1, 0, 0, 1, 1, 0, 1, 1, 1, 1, 0,\n",
      "        1, 0, 0, 1, 1, 1, 1, 1, 1, 1, 0, 1, 0, 0, 1, 1])}\n",
      "Sample 2: {'input_ids': tensor([[  101,  1045,  2031,  ...,     0,     0,     0],\n",
      "        [  101,  2023,  2003,  ...,     0,     0,     0],\n",
      "        [  101,  2044,  3773,  ...,  2001, 11519,   102],\n",
      "        ...,\n",
      "        [  101,  2023,  2001,  ...,     0,     0,     0],\n",
      "        [  101,  2054,  1037,  ...,     0,     0,     0],\n",
      "        [  101,  3835,  1010,  ...,     0,     0,     0]]), 'attention_mask': tensor([[1, 1, 1,  ..., 0, 0, 0],\n",
      "        [1, 1, 1,  ..., 0, 0, 0],\n",
      "        [1, 1, 1,  ..., 1, 1, 1],\n",
      "        ...,\n",
      "        [1, 1, 1,  ..., 0, 0, 0],\n",
      "        [1, 1, 1,  ..., 0, 0, 0],\n",
      "        [1, 1, 1,  ..., 0, 0, 0]]), 'label': tensor([1, 1, 0, 1, 0, 0, 0, 1, 1, 1, 1, 0, 1, 0, 0, 1, 1, 0, 1, 0, 0, 1, 0, 0,\n",
      "        0, 0, 0, 1, 1, 0, 0, 0, 1, 1, 1, 0, 1, 0, 1, 0, 1, 0, 1, 1, 0, 0, 0, 0,\n",
      "        0, 0, 0, 0, 0, 0, 1, 1, 0, 0, 0, 0, 0, 0, 0, 1])}\n",
      "Sample 3: {'input_ids': tensor([[  101,  1045,  4669,  ...,     0,     0,     0],\n",
      "        [  101,  1045, 12246,  ...,     0,     0,     0],\n",
      "        [  101,  1000,  7538,  ...,     0,     0,     0],\n",
      "        ...,\n",
      "        [  101,  1000,  2331,  ...,     0,     0,     0],\n",
      "        [  101,  1045,  4900,  ...,     0,     0,     0],\n",
      "        [  101,  1045,  2018,  ...,     0,     0,     0]]), 'attention_mask': tensor([[1, 1, 1,  ..., 0, 0, 0],\n",
      "        [1, 1, 1,  ..., 0, 0, 0],\n",
      "        [1, 1, 1,  ..., 0, 0, 0],\n",
      "        ...,\n",
      "        [1, 1, 1,  ..., 0, 0, 0],\n",
      "        [1, 1, 1,  ..., 0, 0, 0],\n",
      "        [1, 1, 1,  ..., 0, 0, 0]]), 'label': tensor([1, 1, 1, 1, 0, 0, 0, 0, 1, 0, 0, 0, 0, 0, 1, 0, 1, 1, 0, 1, 0, 1, 0, 0,\n",
      "        1, 0, 1, 0, 1, 1, 0, 1, 1, 1, 1, 0, 1, 1, 1, 1, 0, 0, 1, 0, 1, 0, 0, 1,\n",
      "        1, 0, 1, 0, 1, 0, 0, 1, 0, 0, 1, 1, 1, 1, 0, 1])}\n",
      "Sample 4: {'input_ids': tensor([[  101,  2092,  2049,  ...,     0,     0,     0],\n",
      "        [  101,  2023,  2003,  ...,     0,     0,     0],\n",
      "        [  101,  2005,  2035,  ...,     0,     0,     0],\n",
      "        ...,\n",
      "        [  101, 14163, 28061,  ...,     0,     0,     0],\n",
      "        [  101,  2023,  2003,  ...,     0,     0,     0],\n",
      "        [  101,  2044,  3773,  ...,     0,     0,     0]]), 'attention_mask': tensor([[1, 1, 1,  ..., 0, 0, 0],\n",
      "        [1, 1, 1,  ..., 0, 0, 0],\n",
      "        [1, 1, 1,  ..., 0, 0, 0],\n",
      "        ...,\n",
      "        [1, 1, 1,  ..., 0, 0, 0],\n",
      "        [1, 1, 1,  ..., 0, 0, 0],\n",
      "        [1, 1, 1,  ..., 0, 0, 0]]), 'label': tensor([0, 0, 1, 1, 1, 0, 1, 0, 0, 0, 1, 1, 1, 0, 1, 1, 1, 1, 0, 0, 1, 1, 0, 1,\n",
      "        1, 1, 0, 1, 0, 1, 0, 1, 0, 1, 0, 1, 0, 1, 1, 1, 0, 1, 0, 1, 1, 1, 1, 0,\n",
      "        1, 1, 0, 1, 1, 0, 1, 0, 1, 1, 1, 0, 1, 1, 0, 1])}\n",
      "Sample 5: {'input_ids': tensor([[ 101, 2198, 4811,  ..., 2200, 2190,  102],\n",
      "        [ 101, 1045, 2123,  ...,    0,    0,    0],\n",
      "        [ 101, 1045, 2428,  ..., 1012, 1026,  102],\n",
      "        ...,\n",
      "        [ 101, 2017, 3331,  ...,    0,    0,    0],\n",
      "        [ 101, 2023, 2143,  ...,    0,    0,    0],\n",
      "        [ 101, 2079, 2057,  ...,    0,    0,    0]]), 'attention_mask': tensor([[1, 1, 1,  ..., 1, 1, 1],\n",
      "        [1, 1, 1,  ..., 0, 0, 0],\n",
      "        [1, 1, 1,  ..., 1, 1, 1],\n",
      "        ...,\n",
      "        [1, 1, 1,  ..., 0, 0, 0],\n",
      "        [1, 1, 1,  ..., 0, 0, 0],\n",
      "        [1, 1, 1,  ..., 0, 0, 0]]), 'label': tensor([1, 0, 1, 1, 1, 1, 0, 1, 0, 1, 1, 0, 0, 0, 0, 0, 0, 0, 0, 0, 0, 1, 0, 0,\n",
      "        1, 0, 0, 0, 1, 1, 0, 0, 1, 1, 1, 0, 1, 1, 0, 1, 1, 1, 0, 0, 1, 0, 0, 1,\n",
      "        0, 0, 1, 0, 1, 1, 0, 1, 0, 1, 1, 1, 0, 0, 0, 0])}\n"
     ]
    }
   ],
   "source": [
    "for index, data in enumerate(train_loader):\n",
    "    print(f\"Sample {index}: {data}\")\n",
    "    if index >= 5:\n",
    "        break"
   ]
  },
  {
   "cell_type": "code",
   "execution_count": 37,
   "metadata": {},
   "outputs": [],
   "source": [
    "# hyperparameters\n",
    "\n",
    "embedding_dim = 200   #represents the size of the input vectors that will be fed into the LSTM layer. \n",
    "# It determines the number of features that each word token will be represented with in the LSTM model\n",
    "\n",
    "vocab_size = vocab_size\n",
    "hidden_size = 256\n",
    "num_layers = 2\n",
    "num_classes = 2\n",
    "learning_rate = 0.001\n",
    "num_epochs = 6"
   ]
  },
  {
   "cell_type": "code",
   "execution_count": 38,
   "metadata": {},
   "outputs": [],
   "source": [
    "class LSTM(nn.Module):\n",
    "    def __init__(self, embedding_dim, hidden_size, num_layers, num_classes, vocab_size):\n",
    "        super(LSTM, self).__init__()\n",
    "        self.embedding_dim = embedding_dim\n",
    "        self.hidden_size = hidden_size\n",
    "        self.num_layers = num_layers\n",
    "        \n",
    "        self.embedding = nn.Embedding(vocab_size, embedding_dim)\n",
    "        self.lstm = nn.LSTM(embedding_dim, hidden_size, num_layers, batch_first = True, bidirectional = True)\n",
    "        # batch_first --> If True, then the input and output tensors are provided as (batch, seq, feature) instead of (seq, batch, feature)\n",
    "        # bidirectional --> If True, becomes a bidirectional LSTM\n",
    "        self.fc = nn.Linear(hidden_size * 2, num_classes)\n",
    "        # need to multiply by 2 because one layer going forward and the other going backward\n",
    "        \n",
    "    def forward(self, input_ids, attention_mask):\n",
    "        # need to define hidden state and cell state to be sent into the LSTM\n",
    "        h0 = torch.zeros(self.num_layers * 2, input_ids.size(0), self.hidden_size).to(device) \n",
    "        c0 = torch.zeros(self.num_layers * 2, input_ids.size(0), self.hidden_size).to(device)\n",
    "        # need to multiply by 2 because one layer going forward and the other going backward\n",
    "        # but they are all concatenated for the same hidden state\n",
    "        # x.size(0) number of examples in a batch size \n",
    "        \n",
    "        embedded = self.embedding(input_ids)\n",
    "        \n",
    "        \n",
    "        embedded = embedded * attention_mask.unsqueeze(-1)\n",
    "        #attention_mask.unsqueeze(-1) adds an extra dimension to the attention_mask tensor at the last dimension. \n",
    "        #This is done to match the dimensions of the embedded tensor so that the element-wise multiplication can be performed.\n",
    "        #multiplies each element of the embedded tensor with the corresponding element of the attention_mask tensor. Since the attention_mask tensor has values 0 or 1,\n",
    "        #this operation effectively masks out the padding elements in the embedded tensor by setting their values to 0\n",
    "        \n",
    "        out, (hidden_state, cell_state) = self.lstm(embedded, (h0, c0))   # only output is used here\n",
    "        out = self.fc(out[:, -1, :])   # take the last hidden state and send to the linear layer\n",
    "        \n",
    "        return out"
   ]
  },
  {
   "cell_type": "code",
   "execution_count": 39,
   "metadata": {},
   "outputs": [],
   "source": [
    "model = LSTM(embedding_dim=embedding_dim, hidden_size=hidden_size, num_layers=num_layers, num_classes=num_classes, vocab_size=vocab_size).to(device)"
   ]
  },
  {
   "cell_type": "code",
   "execution_count": 40,
   "metadata": {},
   "outputs": [],
   "source": [
    "criterion = nn.CrossEntropyLoss()\n",
    "optimizer = optim.Adam(model.parameters(), lr=learning_rate)  "
   ]
  },
  {
   "cell_type": "code",
   "execution_count": 41,
   "metadata": {},
   "outputs": [],
   "source": [
    "def train_one_epoch(epoch_index, tb_writer):\n",
    "    running_loss = 0.\n",
    "    last_loss = 0.\n",
    "\n",
    "    # Here, we use enumerate(training_loader) instead of iter(training_loader) so that we can track the batch index and do some intra-epoch reporting\n",
    "    for index, data in enumerate(train_loader):\n",
    "\n",
    "        # Every data instance is an input + label pair\n",
    "        batch_x = data['input_ids']\n",
    "        batch_y = data['label']\n",
    "        attention_mask = data['attention_mask']\n",
    "        \n",
    "        # Zero your gradients for every batch!\n",
    "        optimizer.zero_grad()\n",
    "\n",
    "        # Make predictions for this batch\n",
    "        outputs = model(batch_x, attention_mask = attention_mask)\n",
    "\n",
    "        # Compute the loss and its gradients\n",
    "        loss = criterion(outputs, batch_y)\n",
    "        loss.backward()\n",
    "\n",
    "        # Adjust learning weights\n",
    "        optimizer.step()\n",
    "\n",
    "        # Gather data and report\n",
    "        running_loss += loss.item() #retrieves the scalar value of the loss function for the current batch\n",
    "        if index % 10 == 9: #reports on loss every 10 batches\n",
    "            last_loss = running_loss / 10 # loss per batch\n",
    "            print(f'  batch {index + 1} loss: {last_loss}')\n",
    "            tb_x = epoch_index * len(train_loader) + index + 1  #variable is used to set the x-axis value for the scalar summary in TensorBoard, based on the current epoch and batch index\n",
    "            tb_writer.add_scalar('Loss/train', last_loss, tb_x)\n",
    "            running_loss = 0\n",
    "\n",
    "    return last_loss #last calculated batch loss"
   ]
  },
  {
   "cell_type": "code",
   "execution_count": 42,
   "metadata": {},
   "outputs": [
    {
     "name": "stdout",
     "output_type": "stream",
     "text": [
      "EPOCH 1:\n",
      "  batch 10 loss: 0.6949404120445252\n",
      "  batch 20 loss: 0.6939243018627167\n",
      "  batch 30 loss: 0.688591581583023\n",
      "  batch 40 loss: 0.6952060580253601\n",
      "  batch 50 loss: 0.6894813716411591\n",
      "  batch 60 loss: 0.6969460725784302\n",
      "  batch 70 loss: 0.6929971694946289\n",
      "  batch 80 loss: 0.6935159146785737\n",
      "  batch 90 loss: 0.6936171233654023\n",
      "  batch 100 loss: 0.6933436453342438\n",
      "  batch 110 loss: 0.6944387555122375\n",
      "  batch 120 loss: 0.6944052100181579\n",
      "LOSS: train 0.6944052100181579 validation 0.692832350730896\n",
      "EPOCH 2:\n",
      "  batch 10 loss: 0.6885309815406799\n",
      "  batch 20 loss: 0.6869628667831421\n",
      "  batch 30 loss: 0.6871935427188873\n",
      "  batch 40 loss: 0.6903585195541382\n",
      "  batch 50 loss: 0.6900281369686126\n",
      "  batch 60 loss: 0.6896438241004944\n",
      "  batch 70 loss: 0.6893807768821716\n",
      "  batch 80 loss: 0.6850758910179138\n",
      "  batch 90 loss: 0.6914754092693329\n",
      "  batch 100 loss: 0.6889065563678741\n",
      "  batch 110 loss: 0.6903203547000885\n",
      "  batch 120 loss: 0.6864817500114441\n",
      "LOSS: train 0.6864817500114441 validation 0.6985120177268982\n",
      "EPOCH 3:\n",
      "  batch 10 loss: 0.6583923876285553\n",
      "  batch 20 loss: 0.6567806363105774\n",
      "  batch 30 loss: 0.6897218406200409\n",
      "  batch 40 loss: 0.6836979508399963\n",
      "  batch 50 loss: 0.691732382774353\n",
      "  batch 60 loss: 0.6918282806873322\n",
      "  batch 70 loss: 0.6830328822135925\n",
      "  batch 80 loss: 0.6812918663024903\n",
      "  batch 90 loss: 0.6719642877578735\n",
      "  batch 100 loss: 0.6741195440292358\n",
      "  batch 110 loss: 0.6732862293720245\n",
      "  batch 120 loss: 0.6903349339962006\n",
      "LOSS: train 0.6903349339962006 validation 0.6974788308143616\n",
      "EPOCH 4:\n",
      "  batch 10 loss: 0.6611056923866272\n",
      "  batch 20 loss: 0.6493242383003235\n",
      "  batch 30 loss: 0.6385779321193695\n",
      "  batch 40 loss: 0.6424845397472382\n",
      "  batch 50 loss: 0.6581159174442291\n",
      "  batch 60 loss: 0.639321768283844\n",
      "  batch 70 loss: 0.6680518925189972\n",
      "  batch 80 loss: 0.657375019788742\n",
      "  batch 90 loss: 0.6638867855072021\n",
      "  batch 100 loss: 0.6516179144382477\n",
      "  batch 110 loss: 0.6506748557090759\n",
      "  batch 120 loss: 0.649652361869812\n",
      "LOSS: train 0.649652361869812 validation 0.7348014116287231\n",
      "EPOCH 5:\n",
      "  batch 10 loss: 0.625939029455185\n",
      "  batch 20 loss: 0.6305645883083344\n",
      "  batch 30 loss: 0.6305041790008545\n",
      "  batch 40 loss: 0.6096032202243805\n",
      "  batch 50 loss: 0.6305132687091828\n",
      "  batch 60 loss: 0.6193588316440582\n",
      "  batch 70 loss: 0.6407545983791352\n",
      "  batch 80 loss: 0.6136843085289001\n",
      "  batch 90 loss: 0.6004045486450196\n",
      "  batch 100 loss: 0.6166052103042603\n",
      "  batch 110 loss: 0.6279347240924835\n",
      "  batch 120 loss: 0.632178109884262\n",
      "LOSS: train 0.632178109884262 validation 0.7768685817718506\n"
     ]
    }
   ],
   "source": [
    "# Initializing in a separate cell so we can easily add more epochs to the same run\n",
    "timestamp = datetime.now().strftime('%Y%m%d_%H%M%S')\n",
    "writer = SummaryWriter(f'runs/spaceship_trainer_{timestamp}')\n",
    "epoch_number = 0\n",
    "\n",
    "EPOCHS = 5\n",
    "\n",
    "best_vloss = 1_000_000.\n",
    "\n",
    "for epoch in range(EPOCHS):\n",
    "    print(f'EPOCH {epoch_number + 1}:')\n",
    "\n",
    "    # Make sure gradient tracking is on, and do a pass over the data\n",
    "    model.train(True)\n",
    "    avg_loss = train_one_epoch(epoch_number, writer) # runs the training function above \n",
    "\n",
    "    # We don't need gradients on to do reporting\n",
    "    model.train(False)\n",
    "\n",
    "    running_vloss = 0.0\n",
    "    for index, vdata in enumerate(val_loader):\n",
    "        vbatch_x = vdata['input_ids']\n",
    "        vbatch_y = vdata['label']\n",
    "        vattention_mask = vdata['attention_mask']\n",
    "        \n",
    "        voutputs = model(vbatch_x, vattention_mask)\n",
    "        vloss = criterion(voutputs, vbatch_y)\n",
    "        running_vloss += vloss\n",
    "\n",
    "    avg_vloss = running_vloss / (index + 1)\n",
    "    print(f'LOSS: train {avg_loss} validation {avg_vloss}')\n",
    "\n",
    "    # Log the running loss averaged per batch\n",
    "    # for both training and validation\n",
    "    writer.add_scalars('Training vs. Validation Loss',\n",
    "                    { 'Training' : avg_loss, 'Validation' : avg_vloss },\n",
    "                    epoch_number + 1)\n",
    "    writer.flush()\n",
    "    '''\n",
    "    # Track best performance, and save the model's state\n",
    "    if avg_vloss < best_vloss:\n",
    "        best_vloss = avg_vloss\n",
    "        model_path = f'model_{timestamp}_{epoch_number}'\n",
    "        torch.save(model.state_dict(), model_path)\n",
    "    '''\n",
    "    epoch_number += 1"
   ]
  },
  {
   "cell_type": "code",
   "execution_count": 47,
   "metadata": {},
   "outputs": [],
   "source": [
    "def check_accuracy(loader,model): \n",
    "    if loader == train_loader: \n",
    "        print(\"checking accuracy on training data\")\n",
    "    else:\n",
    "        print(\"checking accuracy on test data\")\n",
    "    num_correct = 0\n",
    "    num_samples = 0\n",
    "    model.eval() \n",
    "    \n",
    "    with torch.no_grad(): \n",
    "        for data in loader:\n",
    "            x= data['input_ids'].to(device=device)\n",
    "            y= data['label'].to(device=device)\n",
    "            am = data['attention_mask'].to(device=device)\n",
    "            \n",
    "            outputs = model(x,am)\n",
    "            \n",
    "            \n",
    "            _, predictions = outputs.max(1)\n",
    "            \n",
    "            num_correct += (predictions == y).sum()\n",
    "            num_samples += predictions.size(0)\n",
    "            \n",
    "        print(f'{num_correct} / {num_samples} with accuracy {float(num_correct)/float(num_samples)*100:.2f}')   #2dp\n",
    "        \n",
    "    model.train()"
   ]
  },
  {
   "cell_type": "code",
   "execution_count": 48,
   "metadata": {},
   "outputs": [
    {
     "name": "stdout",
     "output_type": "stream",
     "text": [
      "checking accuracy on training data\n",
      "4578 / 8000 with accuracy 57.23\n",
      "checking accuracy on test data\n",
      "1010 / 2000 with accuracy 50.50\n"
     ]
    }
   ],
   "source": [
    "check_accuracy(train_loader,model)\n",
    "check_accuracy(val_loader,model)"
   ]
  },
  {
   "cell_type": "code",
   "execution_count": null,
   "metadata": {},
   "outputs": [],
   "source": []
  }
 ],
 "metadata": {
  "kernelspec": {
   "display_name": "base",
   "language": "python",
   "name": "python3"
  },
  "language_info": {
   "codemirror_mode": {
    "name": "ipython",
    "version": 3
   },
   "file_extension": ".py",
   "mimetype": "text/x-python",
   "name": "python",
   "nbconvert_exporter": "python",
   "pygments_lexer": "ipython3",
   "version": "3.10.9"
  },
  "orig_nbformat": 4
 },
 "nbformat": 4,
 "nbformat_minor": 2
}
