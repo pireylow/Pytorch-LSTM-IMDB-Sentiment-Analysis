{
 "cells": [
  {
   "attachments": {},
   "cell_type": "markdown",
   "metadata": {},
   "source": [
    "# Long Short Term Memory Model to Predict Weather in New Delhi\n",
    "\n",
    "This notebook aims to forecast the mean temperature in New Delhi using 4 different features (mean temperature, humidity, wind speed and mean pressure).\n",
    "\n",
    "A Biderectional Long Short Term Memory model is used for this purpose. The dataset is a time series and the model built in this case uses the previous 30 days of data to forecast the mean temperature of the next day.\n",
    "\n",
    "In a bidirectional LSTM, we give the input from both right to left and from left to right."
   ]
  },
  {
   "attachments": {},
   "cell_type": "markdown",
   "metadata": {},
   "source": [
    "## Importing of Packages\n",
    "\n",
    "Here, we import the necessary packages such as numpy (for numerical and array calculations), pandas (data-handling) and torch (building of machine learning model)."
   ]
  },
  {
   "cell_type": "code",
   "execution_count": 281,
   "metadata": {},
   "outputs": [],
   "source": [
    "import numpy as np\n",
    "import pandas as pd\n",
    "\n",
    "import torch\n",
    "import torchvision\n",
    "import torch.nn as nn   # neural network modules\n",
    "import torch.optim as optim   # optimization algorithms\n",
    "import torch.nn.functional as F   # functions without parameters like activation functions\n",
    "from torch.utils.data import TensorDataset, DataLoader, Dataset   # dataset management, create batches\n",
    "import torchvision.datasets as datasets   # standard datasets on pytorch\n",
    "import torchvision.transforms as transforms   #transform datasets\n",
    "\n",
    "import matplotlib.pyplot as plt\n",
    "\n",
    "# PyTorch TensorBoard support\n",
    "from torch.utils.tensorboard import SummaryWriter\n",
    "from datetime import datetime"
   ]
  },
  {
   "attachments": {},
   "cell_type": "markdown",
   "metadata": {},
   "source": [
    "## Device\n",
    "\n",
    "Set device to GPU if available, else, send to CPU. The data and model will be sent to the device."
   ]
  },
  {
   "cell_type": "code",
   "execution_count": 282,
   "metadata": {},
   "outputs": [],
   "source": [
    "device = torch.device('cuda' if torch.cuda.is_available() else 'cpu')"
   ]
  },
  {
   "attachments": {},
   "cell_type": "markdown",
   "metadata": {},
   "source": [
    "## Exploratory Data Analysis"
   ]
  },
  {
   "cell_type": "code",
   "execution_count": 283,
   "metadata": {},
   "outputs": [
    {
     "name": "stdout",
     "output_type": "stream",
     "text": [
      "Full train dataset shape is (1462, 5)\n"
     ]
    }
   ],
   "source": [
    "train_dataset = pd.read_csv(\"DailyDelhiClimateTrain.csv\")\n",
    "\n",
    "print(f\"Full train dataset shape is {train_dataset.shape}\")"
   ]
  },
  {
   "cell_type": "code",
   "execution_count": 284,
   "metadata": {},
   "outputs": [
    {
     "data": {
      "text/html": [
       "<div>\n",
       "<style scoped>\n",
       "    .dataframe tbody tr th:only-of-type {\n",
       "        vertical-align: middle;\n",
       "    }\n",
       "\n",
       "    .dataframe tbody tr th {\n",
       "        vertical-align: top;\n",
       "    }\n",
       "\n",
       "    .dataframe thead th {\n",
       "        text-align: right;\n",
       "    }\n",
       "</style>\n",
       "<table border=\"1\" class=\"dataframe\">\n",
       "  <thead>\n",
       "    <tr style=\"text-align: right;\">\n",
       "      <th></th>\n",
       "      <th>date</th>\n",
       "      <th>meantemp</th>\n",
       "      <th>humidity</th>\n",
       "      <th>wind_speed</th>\n",
       "      <th>meanpressure</th>\n",
       "    </tr>\n",
       "  </thead>\n",
       "  <tbody>\n",
       "    <tr>\n",
       "      <th>0</th>\n",
       "      <td>2013-01-01</td>\n",
       "      <td>10.000000</td>\n",
       "      <td>84.500000</td>\n",
       "      <td>0.000000</td>\n",
       "      <td>1015.666667</td>\n",
       "    </tr>\n",
       "    <tr>\n",
       "      <th>1</th>\n",
       "      <td>2013-01-02</td>\n",
       "      <td>7.400000</td>\n",
       "      <td>92.000000</td>\n",
       "      <td>2.980000</td>\n",
       "      <td>1017.800000</td>\n",
       "    </tr>\n",
       "    <tr>\n",
       "      <th>2</th>\n",
       "      <td>2013-01-03</td>\n",
       "      <td>7.166667</td>\n",
       "      <td>87.000000</td>\n",
       "      <td>4.633333</td>\n",
       "      <td>1018.666667</td>\n",
       "    </tr>\n",
       "    <tr>\n",
       "      <th>3</th>\n",
       "      <td>2013-01-04</td>\n",
       "      <td>8.666667</td>\n",
       "      <td>71.333333</td>\n",
       "      <td>1.233333</td>\n",
       "      <td>1017.166667</td>\n",
       "    </tr>\n",
       "    <tr>\n",
       "      <th>4</th>\n",
       "      <td>2013-01-05</td>\n",
       "      <td>6.000000</td>\n",
       "      <td>86.833333</td>\n",
       "      <td>3.700000</td>\n",
       "      <td>1016.500000</td>\n",
       "    </tr>\n",
       "  </tbody>\n",
       "</table>\n",
       "</div>"
      ],
      "text/plain": [
       "         date   meantemp   humidity  wind_speed  meanpressure\n",
       "0  2013-01-01  10.000000  84.500000    0.000000   1015.666667\n",
       "1  2013-01-02   7.400000  92.000000    2.980000   1017.800000\n",
       "2  2013-01-03   7.166667  87.000000    4.633333   1018.666667\n",
       "3  2013-01-04   8.666667  71.333333    1.233333   1017.166667\n",
       "4  2013-01-05   6.000000  86.833333    3.700000   1016.500000"
      ]
     },
     "execution_count": 284,
     "metadata": {},
     "output_type": "execute_result"
    }
   ],
   "source": [
    "train_dataset.head()"
   ]
  },
  {
   "attachments": {},
   "cell_type": "markdown",
   "metadata": {},
   "source": [
    "Examine the data points briefly using a box plot. This helps us to visualise the data and identify outliers at a glance."
   ]
  },
  {
   "cell_type": "code",
   "execution_count": 285,
   "metadata": {},
   "outputs": [
    {
     "data": {
      "text/plain": [
       "<Axes: >"
      ]
     },
     "execution_count": 285,
     "metadata": {},
     "output_type": "execute_result"
    },
    {
     "data": {
      "image/png": "[encoded data removed]",
      "text/plain": [
       "<Figure size 640x480 with 1 Axes>"
      ]
     },
     "metadata": {},
     "output_type": "display_data"
    }
   ],
   "source": [
    "train_dataset.plot(kind='box')"
   ]
  },
  {
   "attachments": {},
   "cell_type": "markdown",
   "metadata": {},
   "source": [
    "We take a closer look at the data to find outliers and if it is necessary to remove them."
   ]
  },
  {
   "cell_type": "code",
   "execution_count": 286,
   "metadata": {},
   "outputs": [
    {
     "data": {
      "text/html": [
       "<div>\n",
       "<style scoped>\n",
       "    .dataframe tbody tr th:only-of-type {\n",
       "        vertical-align: middle;\n",
       "    }\n",
       "\n",
       "    .dataframe tbody tr th {\n",
       "        vertical-align: top;\n",
       "    }\n",
       "\n",
       "    .dataframe thead th {\n",
       "        text-align: right;\n",
       "    }\n",
       "</style>\n",
       "<table border=\"1\" class=\"dataframe\">\n",
       "  <thead>\n",
       "    <tr style=\"text-align: right;\">\n",
       "      <th></th>\n",
       "      <th>meantemp</th>\n",
       "      <th>humidity</th>\n",
       "      <th>wind_speed</th>\n",
       "      <th>meanpressure</th>\n",
       "    </tr>\n",
       "  </thead>\n",
       "  <tbody>\n",
       "    <tr>\n",
       "      <th>count</th>\n",
       "      <td>1462.000000</td>\n",
       "      <td>1462.000000</td>\n",
       "      <td>1462.000000</td>\n",
       "      <td>1462.000000</td>\n",
       "    </tr>\n",
       "    <tr>\n",
       "      <th>mean</th>\n",
       "      <td>25.495521</td>\n",
       "      <td>60.771702</td>\n",
       "      <td>6.802209</td>\n",
       "      <td>1011.104548</td>\n",
       "    </tr>\n",
       "    <tr>\n",
       "      <th>std</th>\n",
       "      <td>7.348103</td>\n",
       "      <td>16.769652</td>\n",
       "      <td>4.561602</td>\n",
       "      <td>180.231668</td>\n",
       "    </tr>\n",
       "    <tr>\n",
       "      <th>min</th>\n",
       "      <td>6.000000</td>\n",
       "      <td>13.428571</td>\n",
       "      <td>0.000000</td>\n",
       "      <td>-3.041667</td>\n",
       "    </tr>\n",
       "    <tr>\n",
       "      <th>25%</th>\n",
       "      <td>18.857143</td>\n",
       "      <td>50.375000</td>\n",
       "      <td>3.475000</td>\n",
       "      <td>1001.580357</td>\n",
       "    </tr>\n",
       "    <tr>\n",
       "      <th>50%</th>\n",
       "      <td>27.714286</td>\n",
       "      <td>62.625000</td>\n",
       "      <td>6.221667</td>\n",
       "      <td>1008.563492</td>\n",
       "    </tr>\n",
       "    <tr>\n",
       "      <th>75%</th>\n",
       "      <td>31.305804</td>\n",
       "      <td>72.218750</td>\n",
       "      <td>9.238235</td>\n",
       "      <td>1014.944901</td>\n",
       "    </tr>\n",
       "    <tr>\n",
       "      <th>max</th>\n",
       "      <td>38.714286</td>\n",
       "      <td>100.000000</td>\n",
       "      <td>42.220000</td>\n",
       "      <td>7679.333333</td>\n",
       "    </tr>\n",
       "  </tbody>\n",
       "</table>\n",
       "</div>"
      ],
      "text/plain": [
       "          meantemp     humidity   wind_speed  meanpressure\n",
       "count  1462.000000  1462.000000  1462.000000   1462.000000\n",
       "mean     25.495521    60.771702     6.802209   1011.104548\n",
       "std       7.348103    16.769652     4.561602    180.231668\n",
       "min       6.000000    13.428571     0.000000     -3.041667\n",
       "25%      18.857143    50.375000     3.475000   1001.580357\n",
       "50%      27.714286    62.625000     6.221667   1008.563492\n",
       "75%      31.305804    72.218750     9.238235   1014.944901\n",
       "max      38.714286   100.000000    42.220000   7679.333333"
      ]
     },
     "execution_count": 286,
     "metadata": {},
     "output_type": "execute_result"
    }
   ],
   "source": [
    "train_dataset.describe()"
   ]
  },
  {
   "attachments": {},
   "cell_type": "markdown",
   "metadata": {},
   "source": [
    "We remove outliers using z-score (number of standard deviations by which the value of a raw score is above or below the mean value) and we set the limit to 3. As seen from the table above, this only applies to wind speed and mean pressure."
   ]
  },
  {
   "cell_type": "code",
   "execution_count": 287,
   "metadata": {},
   "outputs": [
    {
     "name": "stdout",
     "output_type": "stream",
     "text": [
      "18\n",
      "(1444, 5)\n"
     ]
    }
   ],
   "source": [
    "from scipy import stats\n",
    "\n",
    "z_windspeed = np.abs(stats.zscore(train_dataset['wind_speed']))\n",
    "z_meanpressure = np.abs(stats.zscore(train_dataset['meanpressure']))\n",
    "\n",
    "z_data = [z_windspeed,z_meanpressure]\n",
    "z_list = []\n",
    "for x in z_data:\n",
    "    z_list.extend(np.where(x>3)[0].flatten().tolist())\n",
    "\n",
    "print(len(z_list))\n",
    "train_dataset = train_dataset.drop(index = z_list, axis=0)\n",
    "\n",
    "final_dataset = pd.DataFrame(train_dataset)\n",
    "print(final_dataset.shape)"
   ]
  },
  {
   "cell_type": "code",
   "execution_count": 288,
   "metadata": {},
   "outputs": [
    {
     "data": {
      "text/html": [
       "<div>\n",
       "<style scoped>\n",
       "    .dataframe tbody tr th:only-of-type {\n",
       "        vertical-align: middle;\n",
       "    }\n",
       "\n",
       "    .dataframe tbody tr th {\n",
       "        vertical-align: top;\n",
       "    }\n",
       "\n",
       "    .dataframe thead th {\n",
       "        text-align: right;\n",
       "    }\n",
       "</style>\n",
       "<table border=\"1\" class=\"dataframe\">\n",
       "  <thead>\n",
       "    <tr style=\"text-align: right;\">\n",
       "      <th></th>\n",
       "      <th>date</th>\n",
       "      <th>meantemp</th>\n",
       "      <th>humidity</th>\n",
       "      <th>wind_speed</th>\n",
       "      <th>meanpressure</th>\n",
       "    </tr>\n",
       "  </thead>\n",
       "  <tbody>\n",
       "    <tr>\n",
       "      <th>0</th>\n",
       "      <td>2013-01-01</td>\n",
       "      <td>10.000000</td>\n",
       "      <td>84.500000</td>\n",
       "      <td>0.000000</td>\n",
       "      <td>1015.666667</td>\n",
       "    </tr>\n",
       "    <tr>\n",
       "      <th>1</th>\n",
       "      <td>2013-01-02</td>\n",
       "      <td>7.400000</td>\n",
       "      <td>92.000000</td>\n",
       "      <td>2.980000</td>\n",
       "      <td>1017.800000</td>\n",
       "    </tr>\n",
       "    <tr>\n",
       "      <th>2</th>\n",
       "      <td>2013-01-03</td>\n",
       "      <td>7.166667</td>\n",
       "      <td>87.000000</td>\n",
       "      <td>4.633333</td>\n",
       "      <td>1018.666667</td>\n",
       "    </tr>\n",
       "    <tr>\n",
       "      <th>3</th>\n",
       "      <td>2013-01-04</td>\n",
       "      <td>8.666667</td>\n",
       "      <td>71.333333</td>\n",
       "      <td>1.233333</td>\n",
       "      <td>1017.166667</td>\n",
       "    </tr>\n",
       "    <tr>\n",
       "      <th>4</th>\n",
       "      <td>2013-01-05</td>\n",
       "      <td>6.000000</td>\n",
       "      <td>86.833333</td>\n",
       "      <td>3.700000</td>\n",
       "      <td>1016.500000</td>\n",
       "    </tr>\n",
       "  </tbody>\n",
       "</table>\n",
       "</div>"
      ],
      "text/plain": [
       "        date   meantemp   humidity  wind_speed  meanpressure\n",
       "0 2013-01-01  10.000000  84.500000    0.000000   1015.666667\n",
       "1 2013-01-02   7.400000  92.000000    2.980000   1017.800000\n",
       "2 2013-01-03   7.166667  87.000000    4.633333   1018.666667\n",
       "3 2013-01-04   8.666667  71.333333    1.233333   1017.166667\n",
       "4 2013-01-05   6.000000  86.833333    3.700000   1016.500000"
      ]
     },
     "execution_count": 288,
     "metadata": {},
     "output_type": "execute_result"
    }
   ],
   "source": [
    "final_dataset['date'] = pd.to_datetime(final_dataset['date'])\n",
    "\n",
    "final_dataset.head()"
   ]
  },
  {
   "attachments": {},
   "cell_type": "markdown",
   "metadata": {},
   "source": [
    "Create the feature set which is a numpy array containing the data for 4 features and for all rows.\n",
    "\n",
    "We then choose the mean temperature to be the predicted value."
   ]
  },
  {
   "cell_type": "code",
   "execution_count": 289,
   "metadata": {},
   "outputs": [
    {
     "data": {
      "text/plain": [
       "(1444, 4)"
      ]
     },
     "execution_count": 289,
     "metadata": {},
     "output_type": "execute_result"
    }
   ],
   "source": [
    "feature_set = final_dataset.to_numpy()[:,[1,2,3,4]]\n",
    "out_feature_index = 0 #meantemp\n",
    "feature_set.shape"
   ]
  },
  {
   "cell_type": "code",
   "execution_count": 290,
   "metadata": {},
   "outputs": [
    {
     "data": {
      "text/plain": [
       "array([[10.0, 84.5, 0.0, 1015.6666666666666],\n",
       "       [7.4, 92.0, 2.98, 1017.8],\n",
       "       [7.166666666666667, 87.0, 4.633333333333334, 1018.6666666666666],\n",
       "       ...,\n",
       "       [14.095238095238097, 89.66666666666667, 6.266666666666667,\n",
       "        1017.904761904762],\n",
       "       [15.052631578947368, 87.0, 7.325, 1016.1],\n",
       "       [10.0, 100.0, 0.0, 1016.0]], dtype=object)"
      ]
     },
     "execution_count": 290,
     "metadata": {},
     "output_type": "execute_result"
    }
   ],
   "source": [
    "feature_set"
   ]
  },
  {
   "attachments": {},
   "cell_type": "markdown",
   "metadata": {},
   "source": [
    "We scale the data within the range 0 to 1 using MinMaxScaler and create 2 datasets (one containing all the 4 features, one containing only the mean temperatures). For the output set, the reshape function is needed as the scaler expects a 2D array.\n",
    "\n",
    "Purpose of normalization is so that during gradient descent, the model will be able to converge better to a minimum. If the features had different ranges, their gradients will vary and the rate of change of the cost function with respect to each feature will be different. A unit change for a feature with smaller range will have a smaller impact on the cost function."
   ]
  },
  {
   "cell_type": "code",
   "execution_count": 291,
   "metadata": {},
   "outputs": [
    {
     "name": "stdout",
     "output_type": "stream",
     "text": [
      "(1444, 4)\n",
      "(1444, 1)\n"
     ]
    }
   ],
   "source": [
    "from sklearn.preprocessing import MinMaxScaler\n",
    "\n",
    "cols_to_normalize = ['meantemp', 'humidity', 'wind_speed', 'meanpressure']\n",
    "ycol = ['meantemp']\n",
    "\n",
    "scaler = MinMaxScaler()\n",
    "\n",
    "scaled_data = scaler.fit_transform(feature_set)\n",
    "yscaled_data = scaler.fit_transform(feature_set[:,out_feature_index].reshape(-1,1))\n",
    "# scaler expects 2d --> needs reshape\n",
    "# The -1 in the first dimension indicates that the resulting array should have a size that is automatically determined to ensure that all the elements are included.\n",
    "# The 1 in the second dimension indicates that the resulting array should have a single column.\n",
    "# The purpose of this reshaping is to convert a 1-dimensional array (shape (n,)) into a 2-dimensional array with a single column (shape (n, 1)).\n",
    "\n",
    "print(scaled_data.shape)\n",
    "print(yscaled_data.shape)"
   ]
  },
  {
   "attachments": {},
   "cell_type": "markdown",
   "metadata": {},
   "source": [
    "## Setting of Hyperparameters\n",
    "\n",
    "Input size represents the number of features.\n",
    "\n",
    "Sequence length (x) refers to of x days worth of data prior to the present value.\n",
    "\n",
    "We use 2 layers of LSTM of size 256 nodes. Learning rate is set to 0.001. Batch size is set to 16.\n",
    "\n",
    "The number of epochs (20) defines the number times that the learning algorithm will work through the entire training dataset"
   ]
  },
  {
   "cell_type": "code",
   "execution_count": 292,
   "metadata": {},
   "outputs": [],
   "source": [
    "# hyperparameters\n",
    "\n",
    "input_size = 4   # num_features\n",
    "sequence_length = 30   #blocksize\n",
    "\n",
    "num_layers = 2\n",
    "hidden_size = 256\n",
    "learning_rate = 0.001\n",
    "batch_size = 16\n",
    "num_epochs = 20"
   ]
  },
  {
   "attachments": {},
   "cell_type": "markdown",
   "metadata": {},
   "source": [
    "We separate the data into training data and validation data with a 80:20 split."
   ]
  },
  {
   "cell_type": "code",
   "execution_count": 293,
   "metadata": {},
   "outputs": [
    {
     "name": "stdout",
     "output_type": "stream",
     "text": [
      "(1125, 30, 4)\n",
      "(1125, 1)\n",
      "(289, 30, 4)\n",
      "(289, 1)\n"
     ]
    }
   ],
   "source": [
    "x_train_data,y_train_data=[],[]\n",
    "x_val_data,y_val_data=[],[]\n",
    "\n",
    "for i in range(sequence_length, len(scaled_data)):\n",
    "    if i < int(1444*0.8):\n",
    "        x_train_data.append(scaled_data[i - sequence_length : i,  :])\n",
    "        y_train_data.append(yscaled_data[i])\n",
    "        \n",
    "    else:\n",
    "        x_val_data.append(scaled_data[i - sequence_length : i,  :])\n",
    "        y_val_data.append(yscaled_data[i])        \n",
    "    \n",
    "x_train_data,y_train_data=np.array(x_train_data),np.array(y_train_data)\n",
    "x_val_data,y_val_data=np.array(x_val_data),np.array(y_val_data)\n",
    "\n",
    "print(x_train_data.shape)\n",
    "print(y_train_data.shape)\n",
    "print(x_val_data.shape)\n",
    "print(y_val_data.shape)\n"
   ]
  },
  {
   "attachments": {},
   "cell_type": "markdown",
   "metadata": {},
   "source": [
    "## Creating the LSTM Model\n",
    "\n",
    "First, we inherit the nn.Module within PyTorch which is a class created for general neural networks to create the LSTM class.\n",
    "\n",
    "Then, the initialisation method is created.\n",
    "\n",
    "super calls the initialization method of parents class nn.Module. It takes in two parameters: the first is the subclass, and the second parameter is an object that is an instance of that subclass\n",
    "\n",
    "The LSTM layers are created:\n",
    "batch_first --> If True, then the input and output tensors are provided as (batch, seq, feature) instead of (seq, batch, feature)\n",
    "bidirectional --> If True, becomes a bidirectional LSTM\n",
    "\n",
    "A final fully connected layer is created. The hidden size needs to be multiplied by 2 because one layer going forward and the other going backward.\n",
    "\n",
    "Last, we define the forward pass method.\n",
    "\n",
    "We need to define the hidden state and cell state for each node to be sent to the LSTM which we instantiate as a 3D zero tensor.\n",
    "\n",
    "The number of layers need to be multiplied by 2 because one layer going forward and the other going backward but they are all concatenated for the same hidden state. x.size(0) is the number of examples in a batch size. \n",
    "\n",
    "We take the last output hidden layer of the LSTM and send it to the linear layer."
   ]
  },
  {
   "cell_type": "code",
   "execution_count": 294,
   "metadata": {},
   "outputs": [],
   "source": [
    "class LSTM(nn.Module):\n",
    "    def __init__(self, input_size, hidden_size, num_layers):\n",
    "        super(LSTM, self).__init__()\n",
    "        self.input_size = input_size\n",
    "        self.hidden_size = hidden_size\n",
    "        self.num_layers = num_layers\n",
    "        \n",
    "        self.lstm = nn.LSTM(input_size, hidden_size, num_layers, batch_first = True, bidirectional = True)\n",
    "        self.fc = nn.Linear(hidden_size * 2, 1)\n",
    "        \n",
    "    def forward(self, x):\n",
    "\n",
    "        h0 = torch.zeros(self.num_layers * 2, x.size(0), self.hidden_size).to(device) \n",
    "        c0 = torch.zeros(self.num_layers * 2, x.size(0), self.hidden_size).to(device)\n",
    "        \n",
    "        out, (hidden_state, cell_state) = self.lstm(x, (h0, c0))   # only output is used here\n",
    "        out = self.fc(out[:, -1, :])\n",
    "        \n",
    "        return out"
   ]
  },
  {
   "attachments": {},
   "cell_type": "markdown",
   "metadata": {},
   "source": [
    "The model is sent to the device."
   ]
  },
  {
   "cell_type": "code",
   "execution_count": 295,
   "metadata": {},
   "outputs": [],
   "source": [
    "model = LSTM(input_size=input_size, hidden_size=hidden_size, num_layers=num_layers).to(device)"
   ]
  },
  {
   "attachments": {},
   "cell_type": "markdown",
   "metadata": {},
   "source": [
    "## Criterion and Optimizer\n",
    "\n",
    "The MSELoss loss criterion is used as this is a regression problem where the output is a continuous value and we can use mean-squared-error to calculate the loss function. The model will aim to minimize the average squared distance between predicted and true values and penalizes larger errors more heavily than smaller errors due to the squaring operation.\n",
    "\n",
    "Adam (Adaptive Moment Estimation) optimizer adapts the learning rate for each parameter based on its gradients and past updates. It computes separate learning rates for different parameters, allowing the optimizer to adjust the learning rates dynamically during training. This helps with faster convergence during back propagation.\n",
    "\n",
    "parameters() function was from inhertied nn.Module class\n",
    "When a Parameter is associated with a module as a model attribute, it gets added to the parameter list automatically and can be accessed using the 'parameters' iterator. They are the weights and biases of the model for each layer and their connections."
   ]
  },
  {
   "cell_type": "code",
   "execution_count": 296,
   "metadata": {},
   "outputs": [],
   "source": [
    "criterion = nn.MSELoss()\n",
    "optimizer = optim.Adam(model.parameters(), lr=learning_rate)  "
   ]
  },
  {
   "attachments": {},
   "cell_type": "markdown",
   "metadata": {},
   "source": [
    "Convert the numpy arrays of data into tensors and load them into DataLoader to create batches.\n",
    "\n",
    "shuffle=False is used as we do not want to disrupt the temporal element of the data."
   ]
  },
  {
   "cell_type": "code",
   "execution_count": 297,
   "metadata": {},
   "outputs": [],
   "source": [
    "train_x = torch.tensor(x_train_data, dtype=torch.float32)\n",
    "train_y = torch.tensor(y_train_data, dtype=torch.float32)\n",
    "val_x = torch.tensor(x_val_data, dtype=torch.float32)\n",
    "val_y = torch.tensor(y_val_data, dtype=torch.float32)\n",
    "\n",
    "train_dataset = TensorDataset(train_x, train_y)\n",
    "val_dataset = TensorDataset(val_x, val_y)\n",
    "\n",
    "train_loader = DataLoader(train_dataset, batch_size=batch_size, shuffle=False)\n",
    "val_loader = DataLoader(val_dataset, batch_size=batch_size)"
   ]
  },
  {
   "attachments": {},
   "cell_type": "markdown",
   "metadata": {},
   "source": [
    "## Define the function for training per epoch\n",
    "\n",
    "We use enumerate(training_loader) instead of iter(training_loader) so that we can track the batch index and do some intra-epoch reporting. Each data instance is an input + label pair.\n",
    "\n",
    "We need to zero the gradients for every batch to prevent gradient accumulation across different batches (only want to aggregate within a batch).\n",
    "\n",
    "outputs = model(batch_x) --> predictions are made for the batch \n",
    "\n",
    "loss = criterion(outputs.squeeze(), batch_y) --> loss is calculated\n",
    "\n",
    "loss.backward() --> computes the partial derivative of the output f with respect to each of the input variables.\n",
    "\n",
    "optimizer.step() --> adam step and updates the parameters\n",
    "\n",
    "Next, we retrieve the scalar cvalue of the loss function for the current batch and print out the loss every 10 batches.\n",
    "\n",
    "tb_x = epoch_index * len(train_loader) + index + 1: This line calculates the value for the x-axis of a scalar summary in TensorBoard. It combines the current epoch index (epoch_index), the total number of batches per epoch (len(train_loader)), and the current batch index (index + 1) to get a unique value that represents the progress of training.\n",
    "\n",
    "tb_writer.add_scalar('Loss/train', last_loss, tb_x): This line adds a scalar summary to a TensorBoard writer (tb_writer is an instance of SummaryWriter). It logs the training loss (last_loss) under the tag 'Loss/train' at the x-axis value specified by tb_x\n",
    "\n",
    "Finally, the running loss is reset for the next set of 10 batches"
   ]
  },
  {
   "cell_type": "code",
   "execution_count": 298,
   "metadata": {},
   "outputs": [],
   "source": [
    "def train_one_epoch(epoch_index, tb_writer):\n",
    "    running_loss = 0.\n",
    "    last_loss = 0.\n",
    "\n",
    "    for index, data in enumerate(train_loader):\n",
    "\n",
    "        batch_x, batch_y = data\n",
    "\n",
    "        optimizer.zero_grad()\n",
    "\n",
    "        outputs = model(batch_x)\n",
    "\n",
    "        loss = criterion(outputs.squeeze(), batch_y)\n",
    "        loss.backward()\n",
    "\n",
    "        optimizer.step()\n",
    "\n",
    "\n",
    "        running_loss += loss.item() \n",
    "        if index % 10 == 9: \n",
    "            last_loss = running_loss / 10 # loss per batch\n",
    "            print(f'  batch {index + 1} loss: {last_loss}')\n",
    "            tb_x = epoch_index * len(train_loader) + index + 1 \n",
    "            tb_writer.add_scalar('Loss/train', last_loss, tb_x)\n",
    "            running_loss = 0\n",
    "\n",
    "    return last_loss #last calculated batch loss"
   ]
  },
  {
   "attachments": {},
   "cell_type": "markdown",
   "metadata": {},
   "source": [
    "## Returning the Results\n",
    "\n",
    "First, the SummaryWriter is instantiated.\n",
    "\n",
    "We set model to training mode to make sure that:\n",
    "1. batch normalization or dropout layers are in effect\n",
    "2. enables autograd tracking, which means that the model keeps track of the operations performed during the forward pass to calculate gradients during backpropagation. This allows the model to update its parameters based on the computed gradients.\n",
    "\n",
    "We use the training function to run for one epoch.\n",
    "\n",
    "The model is set back to evaluation mode as gradients are unnecessary for reporting of results on validation set.\n",
    "\n",
    "We then repeat the process of calculating the error and reporting it once for one epoch and also the average loss for the training set.\n",
    "\n",
    "We can log the results into Tensorboard and also save the model's state when it produces a new best performance.\n"
   ]
  },
  {
   "cell_type": "code",
   "execution_count": 299,
   "metadata": {},
   "outputs": [
    {
     "name": "stdout",
     "output_type": "stream",
     "text": [
      "EPOCH 1:\n"
     ]
    },
    {
     "name": "stderr",
     "output_type": "stream",
     "text": [
      "/Users/pirey/miniconda3/lib/python3.10/site-packages/torch/nn/modules/loss.py:536: UserWarning: Using a target size (torch.Size([16, 1])) that is different to the input size (torch.Size([16])). This will likely lead to incorrect results due to broadcasting. Please ensure they have the same size.\n",
      "  return F.mse_loss(input, target, reduction=self.reduction)\n"
     ]
    },
    {
     "name": "stdout",
     "output_type": "stream",
     "text": [
      "  batch 10 loss: 0.06505422201007605\n",
      "  batch 20 loss: 0.039954711124300955\n",
      "  batch 30 loss: 0.1174403615295887\n",
      "  batch 40 loss: 0.14612041059881448\n",
      "  batch 50 loss: 0.10406408119015395\n",
      "  batch 60 loss: 0.11511027179658413\n",
      "  batch 70 loss: 0.0659427233505994\n"
     ]
    },
    {
     "name": "stderr",
     "output_type": "stream",
     "text": [
      "/Users/pirey/miniconda3/lib/python3.10/site-packages/torch/nn/modules/loss.py:536: UserWarning: Using a target size (torch.Size([5, 1])) that is different to the input size (torch.Size([5])). This will likely lead to incorrect results due to broadcasting. Please ensure they have the same size.\n",
      "  return F.mse_loss(input, target, reduction=self.reduction)\n",
      "/Users/pirey/miniconda3/lib/python3.10/site-packages/torch/nn/modules/loss.py:536: UserWarning: Using a target size (torch.Size([1, 1])) that is different to the input size (torch.Size([])). This will likely lead to incorrect results due to broadcasting. Please ensure they have the same size.\n",
      "  return F.mse_loss(input, target, reduction=self.reduction)\n"
     ]
    },
    {
     "name": "stdout",
     "output_type": "stream",
     "text": [
      "LOSS: train 0.0659427233505994 validation 0.038318932056427\n",
      "EPOCH 2:\n",
      "  batch 10 loss: 0.06025623129680753\n",
      "  batch 20 loss: 0.03869416220113635\n",
      "  batch 30 loss: 0.04256501779891551\n",
      "  batch 40 loss: 0.03423872496932745\n",
      "  batch 50 loss: 0.019244837295264005\n",
      "  batch 60 loss: 0.02632399518042803\n",
      "  batch 70 loss: 0.009874309680890292\n",
      "LOSS: train 0.009874309680890292 validation 0.015189691446721554\n",
      "EPOCH 3:\n",
      "  batch 10 loss: 0.010655763489194215\n",
      "  batch 20 loss: 0.012897711526602507\n",
      "  batch 30 loss: 0.02131158858537674\n",
      "  batch 40 loss: 0.01826212229207158\n",
      "  batch 50 loss: 0.01950896279886365\n",
      "  batch 60 loss: 0.0140685913618654\n",
      "  batch 70 loss: 0.006801265082322061\n",
      "LOSS: train 0.006801265082322061 validation 0.015825098380446434\n",
      "EPOCH 4:\n",
      "  batch 10 loss: 0.009535149671137333\n",
      "  batch 20 loss: 0.011040335847064852\n",
      "  batch 30 loss: 0.01451568838674575\n",
      "  batch 40 loss: 0.022474946500733495\n",
      "  batch 50 loss: 0.016125468839891254\n",
      "  batch 60 loss: 0.03816885445266962\n",
      "  batch 70 loss: 0.01298665440408513\n",
      "LOSS: train 0.01298665440408513 validation 0.04259011521935463\n",
      "EPOCH 5:\n",
      "  batch 10 loss: 0.009292450733482838\n",
      "  batch 20 loss: 0.013402079557999968\n",
      "  batch 30 loss: 0.03235206203535199\n",
      "  batch 40 loss: 0.026865231059491634\n",
      "  batch 50 loss: 0.01388406245969236\n",
      "  batch 60 loss: 0.007868486549705267\n",
      "  batch 70 loss: 0.006465537199983373\n",
      "LOSS: train 0.006465537199983373 validation 0.014636117964982986\n",
      "EPOCH 6:\n",
      "  batch 10 loss: 0.007338491850532591\n",
      "  batch 20 loss: 0.005587120947893709\n",
      "  batch 30 loss: 0.006495428783819079\n",
      "  batch 40 loss: 0.005700560798868537\n",
      "  batch 50 loss: 0.006761544669279829\n",
      "  batch 60 loss: 0.005854564241599291\n",
      "  batch 70 loss: 0.005545456981053576\n",
      "LOSS: train 0.005545456981053576 validation 0.005795636679977179\n",
      "EPOCH 7:\n",
      "  batch 10 loss: 0.00593968756729737\n",
      "  batch 20 loss: 0.003574601619038731\n",
      "  batch 30 loss: 0.007357993104960769\n",
      "  batch 40 loss: 0.006946342438459397\n",
      "  batch 50 loss: 0.010356611426686868\n",
      "  batch 60 loss: 0.014057574374601246\n",
      "  batch 70 loss: 0.008381233573891223\n",
      "LOSS: train 0.008381233573891223 validation 0.01821296662092209\n",
      "EPOCH 8:\n",
      "  batch 10 loss: 0.010400621918961406\n",
      "  batch 20 loss: 0.00733191471081227\n",
      "  batch 30 loss: 0.007028552913106978\n",
      "  batch 40 loss: 0.0076141661498695615\n",
      "  batch 50 loss: 0.007288552494719625\n",
      "  batch 60 loss: 0.009472198144067079\n",
      "  batch 70 loss: 0.006010222731856629\n",
      "LOSS: train 0.006010222731856629 validation 0.007132428232580423\n",
      "EPOCH 9:\n",
      "  batch 10 loss: 0.006152182188816369\n",
      "  batch 20 loss: 0.00520134293474257\n",
      "  batch 30 loss: 0.010161658888682723\n",
      "  batch 40 loss: 0.008529812400229275\n",
      "  batch 50 loss: 0.007316235173493624\n",
      "  batch 60 loss: 0.008294950379058719\n",
      "  batch 70 loss: 0.005901897605508566\n",
      "LOSS: train 0.005901897605508566 validation 0.014685599133372307\n",
      "EPOCH 10:\n",
      "  batch 10 loss: 0.005738414521329105\n",
      "  batch 20 loss: 0.004231503419578076\n",
      "  batch 30 loss: 0.005802724091336131\n",
      "  batch 40 loss: 0.004063441825564951\n",
      "  batch 50 loss: 0.007237200037343428\n",
      "  batch 60 loss: 0.007935833316878416\n",
      "  batch 70 loss: 0.005495466658612713\n",
      "LOSS: train 0.005495466658612713 validation 0.016688402742147446\n",
      "EPOCH 11:\n",
      "  batch 10 loss: 0.008751521818339825\n",
      "  batch 20 loss: 0.006886882428079844\n",
      "  batch 30 loss: 0.017772192740812896\n",
      "  batch 40 loss: 0.016787559934891762\n",
      "  batch 50 loss: 0.011745822429656983\n",
      "  batch 60 loss: 0.013618399319238961\n",
      "  batch 70 loss: 0.010675555747002363\n",
      "LOSS: train 0.010675555747002363 validation 0.019021129235625267\n",
      "EPOCH 12:\n",
      "  batch 10 loss: 0.010889262473210693\n",
      "  batch 20 loss: 0.007508127670735121\n",
      "  batch 30 loss: 0.006032766192220151\n",
      "  batch 40 loss: 0.007271857734303921\n",
      "  batch 50 loss: 0.00821598838083446\n",
      "  batch 60 loss: 0.011562160961329938\n",
      "  batch 70 loss: 0.006551228952594102\n",
      "LOSS: train 0.006551228952594102 validation 0.00799091998487711\n",
      "EPOCH 13:\n",
      "  batch 10 loss: 0.006218292796984315\n",
      "  batch 20 loss: 0.006478675361722708\n",
      "  batch 30 loss: 0.014207909349352121\n",
      "  batch 40 loss: 0.01040149931795895\n",
      "  batch 50 loss: 0.008299785666167736\n",
      "  batch 60 loss: 0.011255030008032917\n",
      "  batch 70 loss: 0.0060738127678632734\n",
      "LOSS: train 0.0060738127678632734 validation 0.011027049273252487\n",
      "EPOCH 14:\n",
      "  batch 10 loss: 0.005894102808088064\n",
      "  batch 20 loss: 0.004835121100768447\n",
      "  batch 30 loss: 0.005077256704680622\n",
      "  batch 40 loss: 0.004158933518920094\n",
      "  batch 50 loss: 0.0061878846026957035\n",
      "  batch 60 loss: 0.007860125933075324\n",
      "  batch 70 loss: 0.007791085517965257\n",
      "LOSS: train 0.007791085517965257 validation 0.03205559030175209\n",
      "EPOCH 15:\n",
      "  batch 10 loss: 0.014607780007645487\n",
      "  batch 20 loss: 0.011150330957025289\n",
      "  batch 30 loss: 0.020390444132499397\n",
      "  batch 40 loss: 0.019920725049450992\n",
      "  batch 50 loss: 0.010643145721405744\n",
      "  batch 60 loss: 0.010303693404421211\n",
      "  batch 70 loss: 0.008187570795416831\n",
      "LOSS: train 0.008187570795416831 validation 0.009073317050933838\n",
      "EPOCH 16:\n",
      "  batch 10 loss: 0.007154594361782074\n",
      "  batch 20 loss: 0.005421102908439934\n",
      "  batch 30 loss: 0.007522092992439866\n",
      "  batch 40 loss: 0.007714175374712795\n",
      "  batch 50 loss: 0.009514729829970748\n",
      "  batch 60 loss: 0.012615934759378434\n",
      "  batch 70 loss: 0.006250507530057803\n",
      "LOSS: train 0.006250507530057803 validation 0.008223822340369225\n",
      "EPOCH 17:\n",
      "  batch 10 loss: 0.006292441440746188\n",
      "  batch 20 loss: 0.00554408059688285\n",
      "  batch 30 loss: 0.006950463261455297\n",
      "  batch 40 loss: 0.004778794175945222\n",
      "  batch 50 loss: 0.00917026263778098\n",
      "  batch 60 loss: 0.004901773325400427\n",
      "  batch 70 loss: 0.0065215454204007985\n",
      "LOSS: train 0.0065215454204007985 validation 0.010125678032636642\n",
      "EPOCH 18:\n",
      "  batch 10 loss: 0.007304843608289957\n",
      "  batch 20 loss: 0.0043996616266667845\n",
      "  batch 30 loss: 0.011537509644404054\n",
      "  batch 40 loss: 0.009889210225082934\n",
      "  batch 50 loss: 0.007659069029614329\n",
      "  batch 60 loss: 0.009164112689904868\n",
      "  batch 70 loss: 0.009664224507287145\n",
      "LOSS: train 0.009664224507287145 validation 0.020030587911605835\n",
      "EPOCH 19:\n",
      "  batch 10 loss: 0.011500229104422032\n",
      "  batch 20 loss: 0.007337915105745196\n",
      "  batch 30 loss: 0.005961624369956553\n",
      "  batch 40 loss: 0.006745553412474692\n",
      "  batch 50 loss: 0.007128612906672061\n",
      "  batch 60 loss: 0.009099951467942447\n",
      "  batch 70 loss: 0.005779457156313584\n",
      "LOSS: train 0.005779457156313584 validation 0.007780218031257391\n",
      "EPOCH 20:\n",
      "  batch 10 loss: 0.006024610111489892\n",
      "  batch 20 loss: 0.005801791790872812\n",
      "  batch 30 loss: 0.012623540265485645\n",
      "  batch 40 loss: 0.00938949508126825\n",
      "  batch 50 loss: 0.007622249703854322\n",
      "  batch 60 loss: 0.011522934958338737\n",
      "  batch 70 loss: 0.006323112227255479\n",
      "LOSS: train 0.006323112227255479 validation 0.006878549233078957\n"
     ]
    }
   ],
   "source": [
    "timestamp = datetime.now().strftime('%Y%m%d_%H%M%S')\n",
    "writer = SummaryWriter(f'runs/Delhi_temp_trainer_{timestamp}')\n",
    "epoch_number = 0\n",
    "\n",
    "best_vloss = 1_000_000.\n",
    "\n",
    "for epoch in range(num_epochs):\n",
    "    print(f'EPOCH {epoch_number + 1}:')\n",
    "\n",
    "    model.train(True)\n",
    "    avg_loss = train_one_epoch(epoch_number, writer) \n",
    "\n",
    "    model.eval()\n",
    "\n",
    "    running_vloss = 0.0\n",
    "    for index, vdata in enumerate(val_loader):\n",
    "        vbatch_x, vbatch_y = vdata\n",
    "        voutputs = model(vbatch_x)\n",
    "        vloss = criterion(voutputs.squeeze(), vbatch_y)\n",
    "        running_vloss += vloss\n",
    "\n",
    "    avg_vloss = running_vloss / (index + 1)\n",
    "    print(f'LOSS: train {avg_loss} validation {avg_vloss}')\n",
    "    \n",
    "    '''\n",
    "    # Log the running loss averaged per batch\n",
    "    # for both training and validation\n",
    "    writer.add_scalars('Training vs. Validation Loss',\n",
    "                    { 'Training' : avg_loss, 'Validation' : avg_vloss },\n",
    "                    epoch_number + 1)\n",
    "    writer.flush()\n",
    "\n",
    "    # Track best performance, and save the model's state\n",
    "    if avg_vloss < best_vloss:\n",
    "        best_vloss = avg_vloss\n",
    "        model_path = f'model_{timestamp}_{epoch_number}'\n",
    "        torch.save(model.state_dict(), model_path)\n",
    "    '''\n",
    "    epoch_number += 1"
   ]
  },
  {
   "attachments": {},
   "cell_type": "markdown",
   "metadata": {},
   "source": [
    "As we can see from the results above, the loss decreases as the model gets trained over more epochs."
   ]
  },
  {
   "attachments": {},
   "cell_type": "markdown",
   "metadata": {},
   "source": [
    "## Checking the MSE of Model\n",
    "\n",
    "As this is for evaluation, it is not necessary to optimise with gradients as this will waste time and thus we use torch.no_grad()\n",
    "\n",
    "Here, we need to unscale the data to calculate the actual MSE of the results and thus we use the inverse_transform function of the scaler.\n",
    "\n",
    "'loss' contains the sum of MSE values of all the outputs within the batch\n",
    "\n",
    "Sum the loss over all the batches and devide by the number of samples.\n",
    "\n",
    "The overall MSE is reported."
   ]
  },
  {
   "cell_type": "code",
   "execution_count": 300,
   "metadata": {},
   "outputs": [],
   "source": [
    "def check_mse(loader,model): \n",
    "    if loader == train_loader: \n",
    "        print(\"checking mse on training data\")\n",
    "    else:\n",
    "        print(\"checking mse on test data\")\n",
    "    overall_loss = 0\n",
    "    num_samples = 0\n",
    "    model.eval()\n",
    "    \n",
    "    with torch.no_grad(): \n",
    "        for x,y in loader:\n",
    "            x= x.to(device=device)\n",
    "            y= y.to(device=device)\n",
    "            \n",
    "            outputs = model(x)\n",
    "            unscaled_outputs = scaler.inverse_transform(np.array(outputs))\n",
    "            unscaled_y = scaler.inverse_transform(np.array(y))\n",
    "            \n",
    "            unscaled_outputs = torch.from_numpy(unscaled_outputs)\n",
    "            unscaled_y = torch.from_numpy(unscaled_y)            \n",
    "            \n",
    "            loss = F.mse_loss(unscaled_outputs,unscaled_y,reduction='sum')\n",
    "            \n",
    "            overall_loss += loss.item()\n",
    "            num_samples += x.size(0)\n",
    "\n",
    "        mse = overall_loss / num_samples\n",
    "        print(f\"MSE: {mse:.4f}\")\n",
    "        \n",
    "    model.train()"
   ]
  },
  {
   "cell_type": "code",
   "execution_count": 302,
   "metadata": {},
   "outputs": [
    {
     "name": "stdout",
     "output_type": "stream",
     "text": [
      "checking mse on training data\n",
      "MSE: 4.5990\n",
      "checking mse on test data\n",
      "MSE: 4.9128\n"
     ]
    }
   ],
   "source": [
    "check_mse(train_loader,model)\n",
    "check_mse(val_loader,model)"
   ]
  },
  {
   "attachments": {},
   "cell_type": "markdown",
   "metadata": {},
   "source": [
    "The mean squared error is relatively low for the bi-directional LSTM model, showing that it works for this time series problem."
   ]
  }
 ],
 "metadata": {
  "kernelspec": {
   "display_name": "base",
   "language": "python",
   "name": "python3"
  },
  "language_info": {
   "codemirror_mode": {
    "name": "ipython",
    "version": 3
   },
   "file_extension": ".py",
   "mimetype": "text/x-python",
   "name": "python",
   "nbconvert_exporter": "python",
   "pygments_lexer": "ipython3",
   "version": "3.10.9"
  },
  "orig_nbformat": 4
 },
 "nbformat": 4,
 "nbformat_minor": 2
}
