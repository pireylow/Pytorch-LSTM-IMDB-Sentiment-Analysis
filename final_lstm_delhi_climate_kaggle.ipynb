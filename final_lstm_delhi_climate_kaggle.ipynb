{
 "cells": [
  {
   "cell_type": "markdown",
   "metadata": {},
   "source": [
    "# Long Short Term Memory Model to Predict Weather in New Delhi\n",
    "\n",
    "This notebook aims to forecast the mean temperature in New Delhi using 4 different features (mean temperature, humidity, wind speed and mean pressure).\n",
    "\n",
    "A Biderectional Long Short Term Memory model is used for this purpose. The dataset is a time series and the model built in this case uses the previous 30 days of data to forecast the mean temperature of the next day.\n",
    "\n",
    "In a bidirectional LSTM, we give the input from both right to left and from left to right."
   ]
  },
  {
   "cell_type": "markdown",
   "metadata": {},
   "source": [
    "## Importing of Packages\n",
    "\n",
    "Here, we import the necessary packages such as numpy (for numerical and array calculations), pandas (data-handling) and torch (building of machine learning model)."
   ]
  },
  {
   "cell_type": "code",
   "execution_count": 58,
   "metadata": {},
   "outputs": [],
   "source": [
    "import numpy as np\n",
    "import pandas as pd\n",
    "\n",
    "import torch\n",
    "import torchvision\n",
    "import torch.nn as nn   # neural network modules\n",
    "import torch.optim as optim   # optimization algorithms\n",
    "import torch.nn.functional as F   # functions without parameters like activation functions\n",
    "from torch.utils.data import TensorDataset, DataLoader, Dataset   # dataset management, create batches\n",
    "import torchvision.datasets as datasets   # standard datasets on pytorch\n",
    "import torchvision.transforms as transforms   #transform datasets\n",
    "\n",
    "import matplotlib.pyplot as plt\n",
    "\n",
    "# PyTorch TensorBoard support\n",
    "from torch.utils.tensorboard import SummaryWriter\n",
    "from datetime import datetime"
   ]
  },
  {
   "cell_type": "markdown",
   "metadata": {},
   "source": [
    "## Device\n",
    "\n",
    "Set device to GPU if available, else, send to CPU. The data and model will be sent to the device."
   ]
  },
  {
   "cell_type": "code",
   "execution_count": 59,
   "metadata": {},
   "outputs": [
    {
     "name": "stdout",
     "output_type": "stream",
     "text": [
      "cpu\n"
     ]
    }
   ],
   "source": [
    "device = torch.device('cuda' if torch.cuda.is_available() else 'cpu')\n",
    "print(device)"
   ]
  },
  {
   "cell_type": "markdown",
   "metadata": {},
   "source": [
    "## Exploratory Data Analysis"
   ]
  },
  {
   "cell_type": "code",
   "execution_count": 60,
   "metadata": {},
   "outputs": [
    {
     "name": "stdout",
     "output_type": "stream",
     "text": [
      "Full train dataset shape is (1462, 5)\n"
     ]
    }
   ],
   "source": [
    "train_dataset = pd.read_csv(\"DailyDelhiClimateTrain.csv\")\n",
    "\n",
    "print(f\"Full train dataset shape is {train_dataset.shape}\")"
   ]
  },
  {
   "cell_type": "code",
   "execution_count": 61,
   "metadata": {},
   "outputs": [
    {
     "data": {
      "text/html": [
       "<div>\n",
       "<style scoped>\n",
       "    .dataframe tbody tr th:only-of-type {\n",
       "        vertical-align: middle;\n",
       "    }\n",
       "\n",
       "    .dataframe tbody tr th {\n",
       "        vertical-align: top;\n",
       "    }\n",
       "\n",
       "    .dataframe thead th {\n",
       "        text-align: right;\n",
       "    }\n",
       "</style>\n",
       "<table border=\"1\" class=\"dataframe\">\n",
       "  <thead>\n",
       "    <tr style=\"text-align: right;\">\n",
       "      <th></th>\n",
       "      <th>date</th>\n",
       "      <th>meantemp</th>\n",
       "      <th>humidity</th>\n",
       "      <th>wind_speed</th>\n",
       "      <th>meanpressure</th>\n",
       "    </tr>\n",
       "  </thead>\n",
       "  <tbody>\n",
       "    <tr>\n",
       "      <th>0</th>\n",
       "      <td>2013-01-01</td>\n",
       "      <td>10.000000</td>\n",
       "      <td>84.500000</td>\n",
       "      <td>0.000000</td>\n",
       "      <td>1015.666667</td>\n",
       "    </tr>\n",
       "    <tr>\n",
       "      <th>1</th>\n",
       "      <td>2013-01-02</td>\n",
       "      <td>7.400000</td>\n",
       "      <td>92.000000</td>\n",
       "      <td>2.980000</td>\n",
       "      <td>1017.800000</td>\n",
       "    </tr>\n",
       "    <tr>\n",
       "      <th>2</th>\n",
       "      <td>2013-01-03</td>\n",
       "      <td>7.166667</td>\n",
       "      <td>87.000000</td>\n",
       "      <td>4.633333</td>\n",
       "      <td>1018.666667</td>\n",
       "    </tr>\n",
       "    <tr>\n",
       "      <th>3</th>\n",
       "      <td>2013-01-04</td>\n",
       "      <td>8.666667</td>\n",
       "      <td>71.333333</td>\n",
       "      <td>1.233333</td>\n",
       "      <td>1017.166667</td>\n",
       "    </tr>\n",
       "    <tr>\n",
       "      <th>4</th>\n",
       "      <td>2013-01-05</td>\n",
       "      <td>6.000000</td>\n",
       "      <td>86.833333</td>\n",
       "      <td>3.700000</td>\n",
       "      <td>1016.500000</td>\n",
       "    </tr>\n",
       "  </tbody>\n",
       "</table>\n",
       "</div>"
      ],
      "text/plain": [
       "         date   meantemp   humidity  wind_speed  meanpressure\n",
       "0  2013-01-01  10.000000  84.500000    0.000000   1015.666667\n",
       "1  2013-01-02   7.400000  92.000000    2.980000   1017.800000\n",
       "2  2013-01-03   7.166667  87.000000    4.633333   1018.666667\n",
       "3  2013-01-04   8.666667  71.333333    1.233333   1017.166667\n",
       "4  2013-01-05   6.000000  86.833333    3.700000   1016.500000"
      ]
     },
     "execution_count": 61,
     "metadata": {},
     "output_type": "execute_result"
    }
   ],
   "source": [
    "train_dataset.head()"
   ]
  },
  {
   "attachments": {},
   "cell_type": "markdown",
   "metadata": {},
   "source": [
    "Examine the data distribution for each column to decide what should be considered outliers.\n",
    "\n",
    "Examine the data points briefly using a box plot. This helps us to visualise the data and identify outliers at a glance."
   ]
  },
  {
   "cell_type": "code",
   "execution_count": 62,
   "metadata": {},
   "outputs": [
    {
     "data": {
      "image/png": "[encoded data removed]",
      "text/plain": [
       "<Figure size 640x480 with 1 Axes>"
      ]
     },
     "metadata": {},
     "output_type": "display_data"
    }
   ],
   "source": [
    "plt.hist(train_dataset['meantemp'], bins=30)\n",
    "plt.xlabel('Values')\n",
    "plt.ylabel('Frequency')\n",
    "plt.title('Histogram of meantemp')\n",
    "plt.show()"
   ]
  },
  {
   "attachments": {},
   "cell_type": "markdown",
   "metadata": {},
   "source": [
    "The mean temperature data does not seem to have any outliers from the distribution."
   ]
  },
  {
   "cell_type": "code",
   "execution_count": 63,
   "metadata": {},
   "outputs": [
    {
     "data": {
      "image/png": "[encoded data removed]",
      "text/plain": [
       "<Figure size 640x480 with 1 Axes>"
      ]
     },
     "metadata": {},
     "output_type": "display_data"
    }
   ],
   "source": [
    "plt.hist(train_dataset['humidity'], bins=30)\n",
    "plt.xlabel('Values')\n",
    "plt.ylabel('Frequency')\n",
    "plt.title('Histogram of humidity')\n",
    "plt.show()"
   ]
  },
  {
   "attachments": {},
   "cell_type": "markdown",
   "metadata": {},
   "source": [
    "The humidity data does not seem to have any outliers from the distribution."
   ]
  },
  {
   "cell_type": "code",
   "execution_count": 64,
   "metadata": {},
   "outputs": [
    {
     "data": {
      "image/png": "[encoded data removed]",
      "text/plain": [
       "<Figure size 640x480 with 1 Axes>"
      ]
     },
     "metadata": {},
     "output_type": "display_data"
    }
   ],
   "source": [
    "plt.hist(train_dataset['wind_speed'], bins=30)\n",
    "plt.xlabel('Values')\n",
    "plt.ylabel('Frequency')\n",
    "plt.title('Histogram of wind speed')\n",
    "plt.show()"
   ]
  },
  {
   "attachments": {},
   "cell_type": "markdown",
   "metadata": {},
   "source": [
    "The wind speed data is skewed towards one side and hence, the nature of the distribution might mean that the data points with larger values might not actually be outliers."
   ]
  },
  {
   "cell_type": "code",
   "execution_count": 65,
   "metadata": {},
   "outputs": [
    {
     "data": {
      "image/png": "[encoded data removed]",
      "text/plain": [
       "<Figure size 640x480 with 1 Axes>"
      ]
     },
     "metadata": {},
     "output_type": "display_data"
    }
   ],
   "source": [
    "plt.hist(train_dataset['meanpressure'], bins=100)\n",
    "plt.xlabel('Values')\n",
    "plt.ylabel('Frequency')\n",
    "plt.title('Histogram of meanpressure')\n",
    "plt.show()"
   ]
  },
  {
   "cell_type": "code",
   "execution_count": 66,
   "metadata": {},
   "outputs": [
    {
     "data": {
      "image/png": "[encoded data removed]",
      "text/plain": [
       "<Figure size 640x480 with 1 Axes>"
      ]
     },
     "metadata": {},
     "output_type": "display_data"
    }
   ],
   "source": [
    "meanpressure_wo_outlier = train_dataset['meanpressure'][train_dataset['meanpressure'] <= 1300][train_dataset['meanpressure'] >= 700]\n",
    "\n",
    "plt.hist(meanpressure_wo_outlier, bins=100)\n",
    "plt.xlabel('Values')\n",
    "plt.ylabel('Frequency')\n",
    "plt.title('Histogram of meanpressure')\n",
    "plt.show()\n"
   ]
  },
  {
   "attachments": {},
   "cell_type": "markdown",
   "metadata": {},
   "source": [
    "The mean pressure data has a distribution that is centred around 1000 and has several outliers that are far from the range where most values lie."
   ]
  },
  {
   "cell_type": "code",
   "execution_count": 67,
   "metadata": {},
   "outputs": [
    {
     "data": {
      "text/plain": [
       "<Axes: >"
      ]
     },
     "execution_count": 67,
     "metadata": {},
     "output_type": "execute_result"
    },
    {
     "data": {
      "image/png": "[encoded data removed]",
      "text/plain": [
       "<Figure size 640x480 with 1 Axes>"
      ]
     },
     "metadata": {},
     "output_type": "display_data"
    }
   ],
   "source": [
    "train_dataset['meantemp'].plot(kind='box')"
   ]
  },
  {
   "attachments": {},
   "cell_type": "markdown",
   "metadata": {},
   "source": [
    "Mean temperature data does not have any outliers."
   ]
  },
  {
   "cell_type": "code",
   "execution_count": 68,
   "metadata": {},
   "outputs": [
    {
     "data": {
      "text/plain": [
       "<Axes: >"
      ]
     },
     "execution_count": 68,
     "metadata": {},
     "output_type": "execute_result"
    },
    {
     "data": {
      "image/png": "[encoded data removed]",
      "text/plain": [
       "<Figure size 640x480 with 1 Axes>"
      ]
     },
     "metadata": {},
     "output_type": "display_data"
    }
   ],
   "source": [
    "train_dataset['humidity'].plot(kind='box')"
   ]
  },
  {
   "attachments": {},
   "cell_type": "markdown",
   "metadata": {},
   "source": [
    "Not sure if humidity data has outliers but there are a few data points outside 1.5 times of IQR.\n",
    "\n",
    "IQR is the 2nd and 3rd quartile of data."
   ]
  },
  {
   "cell_type": "code",
   "execution_count": 69,
   "metadata": {},
   "outputs": [
    {
     "data": {
      "text/plain": [
       "<Axes: >"
      ]
     },
     "execution_count": 69,
     "metadata": {},
     "output_type": "execute_result"
    },
    {
     "data": {
      "image/png": "[encoded data removed]",
      "text/plain": [
       "<Figure size 640x480 with 1 Axes>"
      ]
     },
     "metadata": {},
     "output_type": "display_data"
    }
   ],
   "source": [
    "train_dataset['wind_speed'].plot(kind='box')"
   ]
  },
  {
   "attachments": {},
   "cell_type": "markdown",
   "metadata": {},
   "source": [
    "Wind speed data has outliers which need to be removed."
   ]
  },
  {
   "cell_type": "code",
   "execution_count": 70,
   "metadata": {},
   "outputs": [
    {
     "data": {
      "text/plain": [
       "<Axes: >"
      ]
     },
     "execution_count": 70,
     "metadata": {},
     "output_type": "execute_result"
    },
    {
     "data": {
      "image/png": "[encoded data removed]",
      "text/plain": [
       "<Figure size 640x480 with 1 Axes>"
      ]
     },
     "metadata": {},
     "output_type": "display_data"
    }
   ],
   "source": [
    "train_dataset['meanpressure'].plot(kind='box')"
   ]
  },
  {
   "attachments": {},
   "cell_type": "markdown",
   "metadata": {},
   "source": [
    "Mean pressure data has outliers which need to be removed."
   ]
  },
  {
   "cell_type": "markdown",
   "metadata": {},
   "source": [
    "We take a closer look at the data to find outliers and if it is necessary to remove them."
   ]
  },
  {
   "cell_type": "code",
   "execution_count": 71,
   "metadata": {},
   "outputs": [
    {
     "data": {
      "text/html": [
       "<div>\n",
       "<style scoped>\n",
       "    .dataframe tbody tr th:only-of-type {\n",
       "        vertical-align: middle;\n",
       "    }\n",
       "\n",
       "    .dataframe tbody tr th {\n",
       "        vertical-align: top;\n",
       "    }\n",
       "\n",
       "    .dataframe thead th {\n",
       "        text-align: right;\n",
       "    }\n",
       "</style>\n",
       "<table border=\"1\" class=\"dataframe\">\n",
       "  <thead>\n",
       "    <tr style=\"text-align: right;\">\n",
       "      <th></th>\n",
       "      <th>meantemp</th>\n",
       "      <th>humidity</th>\n",
       "      <th>wind_speed</th>\n",
       "      <th>meanpressure</th>\n",
       "    </tr>\n",
       "  </thead>\n",
       "  <tbody>\n",
       "    <tr>\n",
       "      <th>count</th>\n",
       "      <td>1462.000000</td>\n",
       "      <td>1462.000000</td>\n",
       "      <td>1462.000000</td>\n",
       "      <td>1462.000000</td>\n",
       "    </tr>\n",
       "    <tr>\n",
       "      <th>mean</th>\n",
       "      <td>25.495521</td>\n",
       "      <td>60.771702</td>\n",
       "      <td>6.802209</td>\n",
       "      <td>1011.104548</td>\n",
       "    </tr>\n",
       "    <tr>\n",
       "      <th>std</th>\n",
       "      <td>7.348103</td>\n",
       "      <td>16.769652</td>\n",
       "      <td>4.561602</td>\n",
       "      <td>180.231668</td>\n",
       "    </tr>\n",
       "    <tr>\n",
       "      <th>min</th>\n",
       "      <td>6.000000</td>\n",
       "      <td>13.428571</td>\n",
       "      <td>0.000000</td>\n",
       "      <td>-3.041667</td>\n",
       "    </tr>\n",
       "    <tr>\n",
       "      <th>25%</th>\n",
       "      <td>18.857143</td>\n",
       "      <td>50.375000</td>\n",
       "      <td>3.475000</td>\n",
       "      <td>1001.580357</td>\n",
       "    </tr>\n",
       "    <tr>\n",
       "      <th>50%</th>\n",
       "      <td>27.714286</td>\n",
       "      <td>62.625000</td>\n",
       "      <td>6.221667</td>\n",
       "      <td>1008.563492</td>\n",
       "    </tr>\n",
       "    <tr>\n",
       "      <th>75%</th>\n",
       "      <td>31.305804</td>\n",
       "      <td>72.218750</td>\n",
       "      <td>9.238235</td>\n",
       "      <td>1014.944901</td>\n",
       "    </tr>\n",
       "    <tr>\n",
       "      <th>max</th>\n",
       "      <td>38.714286</td>\n",
       "      <td>100.000000</td>\n",
       "      <td>42.220000</td>\n",
       "      <td>7679.333333</td>\n",
       "    </tr>\n",
       "  </tbody>\n",
       "</table>\n",
       "</div>"
      ],
      "text/plain": [
       "          meantemp     humidity   wind_speed  meanpressure\n",
       "count  1462.000000  1462.000000  1462.000000   1462.000000\n",
       "mean     25.495521    60.771702     6.802209   1011.104548\n",
       "std       7.348103    16.769652     4.561602    180.231668\n",
       "min       6.000000    13.428571     0.000000     -3.041667\n",
       "25%      18.857143    50.375000     3.475000   1001.580357\n",
       "50%      27.714286    62.625000     6.221667   1008.563492\n",
       "75%      31.305804    72.218750     9.238235   1014.944901\n",
       "max      38.714286   100.000000    42.220000   7679.333333"
      ]
     },
     "execution_count": 71,
     "metadata": {},
     "output_type": "execute_result"
    }
   ],
   "source": [
    "train_dataset.describe()"
   ]
  },
  {
   "cell_type": "markdown",
   "metadata": {},
   "source": [
    "We remove outliers using z-score (number of standard deviations by which the value of a raw score is above or below the mean value) and we set the limit to 3. As seen from the table above, this only applies to wind speed and mean pressure."
   ]
  },
  {
   "cell_type": "code",
   "execution_count": 72,
   "metadata": {},
   "outputs": [
    {
     "name": "stdout",
     "output_type": "stream",
     "text": [
      "4\n",
      "(1458, 5)\n"
     ]
    }
   ],
   "source": [
    "from scipy import stats\n",
    "\n",
    "z_meanpressure = np.abs(stats.zscore(train_dataset['meanpressure']))\n",
    "\n",
    "z_data = [z_meanpressure]\n",
    "z_list = []\n",
    "for x in z_data:\n",
    "    z_list.extend(np.where(x>3)[0].flatten().tolist())\n",
    "\n",
    "print(len(z_list))\n",
    "train_dataset = train_dataset.drop(index = z_list, axis=0)\n",
    "\n",
    "final_dataset = pd.DataFrame(train_dataset)\n",
    "print(final_dataset.shape)"
   ]
  },
  {
   "cell_type": "code",
   "execution_count": 73,
   "metadata": {},
   "outputs": [
    {
     "data": {
      "image/png": "[encoded data removed]",
      "text/plain": [
       "<Figure size 640x480 with 1 Axes>"
      ]
     },
     "metadata": {},
     "output_type": "display_data"
    }
   ],
   "source": [
    "plt.hist(train_dataset['meanpressure'], bins=100)\n",
    "plt.xlabel('Values')\n",
    "plt.ylabel('Frequency')\n",
    "plt.title('Histogram of meanpressure')\n",
    "plt.show()"
   ]
  },
  {
   "attachments": {},
   "cell_type": "markdown",
   "metadata": {},
   "source": [
    "There are still some outliers after removing using the z-scores. Thus, we will remove those manually."
   ]
  },
  {
   "cell_type": "code",
   "execution_count": 74,
   "metadata": {},
   "outputs": [],
   "source": [
    "train_dataset['meanpressure'] = train_dataset['meanpressure'][train_dataset['meanpressure'] <= 1300][train_dataset['meanpressure'] >= 950]"
   ]
  },
  {
   "cell_type": "code",
   "execution_count": 75,
   "metadata": {},
   "outputs": [
    {
     "data": {
      "image/png": "[encoded data removed]",
      "text/plain": [
       "<Figure size 640x480 with 1 Axes>"
      ]
     },
     "metadata": {},
     "output_type": "display_data"
    }
   ],
   "source": [
    "plt.hist(train_dataset['meanpressure'], bins=100)\n",
    "plt.xlabel('Values')\n",
    "plt.ylabel('Frequency')\n",
    "plt.title('Histogram of meanpressure')\n",
    "plt.show()"
   ]
  },
  {
   "cell_type": "code",
   "execution_count": 76,
   "metadata": {},
   "outputs": [
    {
     "data": {
      "text/plain": [
       "<Axes: >"
      ]
     },
     "execution_count": 76,
     "metadata": {},
     "output_type": "execute_result"
    },
    {
     "data": {
      "image/png": "[encoded data removed]",
      "text/plain": [
       "<Figure size 640x480 with 1 Axes>"
      ]
     },
     "metadata": {},
     "output_type": "display_data"
    }
   ],
   "source": [
    "train_dataset['meanpressure'].plot(kind='box')"
   ]
  },
  {
   "cell_type": "code",
   "execution_count": 77,
   "metadata": {},
   "outputs": [
    {
     "data": {
      "text/html": [
       "<div>\n",
       "<style scoped>\n",
       "    .dataframe tbody tr th:only-of-type {\n",
       "        vertical-align: middle;\n",
       "    }\n",
       "\n",
       "    .dataframe tbody tr th {\n",
       "        vertical-align: top;\n",
       "    }\n",
       "\n",
       "    .dataframe thead th {\n",
       "        text-align: right;\n",
       "    }\n",
       "</style>\n",
       "<table border=\"1\" class=\"dataframe\">\n",
       "  <thead>\n",
       "    <tr style=\"text-align: right;\">\n",
       "      <th></th>\n",
       "      <th>date</th>\n",
       "      <th>meantemp</th>\n",
       "      <th>humidity</th>\n",
       "      <th>wind_speed</th>\n",
       "      <th>meanpressure</th>\n",
       "    </tr>\n",
       "  </thead>\n",
       "  <tbody>\n",
       "    <tr>\n",
       "      <th>0</th>\n",
       "      <td>2013-01-01</td>\n",
       "      <td>10.000000</td>\n",
       "      <td>84.500000</td>\n",
       "      <td>0.000000</td>\n",
       "      <td>1015.666667</td>\n",
       "    </tr>\n",
       "    <tr>\n",
       "      <th>1</th>\n",
       "      <td>2013-01-02</td>\n",
       "      <td>7.400000</td>\n",
       "      <td>92.000000</td>\n",
       "      <td>2.980000</td>\n",
       "      <td>1017.800000</td>\n",
       "    </tr>\n",
       "    <tr>\n",
       "      <th>2</th>\n",
       "      <td>2013-01-03</td>\n",
       "      <td>7.166667</td>\n",
       "      <td>87.000000</td>\n",
       "      <td>4.633333</td>\n",
       "      <td>1018.666667</td>\n",
       "    </tr>\n",
       "    <tr>\n",
       "      <th>3</th>\n",
       "      <td>2013-01-04</td>\n",
       "      <td>8.666667</td>\n",
       "      <td>71.333333</td>\n",
       "      <td>1.233333</td>\n",
       "      <td>1017.166667</td>\n",
       "    </tr>\n",
       "    <tr>\n",
       "      <th>4</th>\n",
       "      <td>2013-01-05</td>\n",
       "      <td>6.000000</td>\n",
       "      <td>86.833333</td>\n",
       "      <td>3.700000</td>\n",
       "      <td>1016.500000</td>\n",
       "    </tr>\n",
       "  </tbody>\n",
       "</table>\n",
       "</div>"
      ],
      "text/plain": [
       "        date   meantemp   humidity  wind_speed  meanpressure\n",
       "0 2013-01-01  10.000000  84.500000    0.000000   1015.666667\n",
       "1 2013-01-02   7.400000  92.000000    2.980000   1017.800000\n",
       "2 2013-01-03   7.166667  87.000000    4.633333   1018.666667\n",
       "3 2013-01-04   8.666667  71.333333    1.233333   1017.166667\n",
       "4 2013-01-05   6.000000  86.833333    3.700000   1016.500000"
      ]
     },
     "execution_count": 77,
     "metadata": {},
     "output_type": "execute_result"
    }
   ],
   "source": [
    "final_dataset['date'] = pd.to_datetime(final_dataset['date'])\n",
    "\n",
    "final_dataset.head()"
   ]
  },
  {
   "cell_type": "markdown",
   "metadata": {},
   "source": [
    "Create the feature set which is a numpy array containing the data for 4 features and for all rows.\n",
    "\n",
    "We then choose the mean temperature to be the predicted value."
   ]
  },
  {
   "attachments": {},
   "cell_type": "markdown",
   "metadata": {},
   "source": [
    "## Making Sure that Features are Independent (IID)\n",
    "\n",
    "We use the correlation matrix to find out the correlation coefficients between each pair of features."
   ]
  },
  {
   "cell_type": "code",
   "execution_count": 78,
   "metadata": {},
   "outputs": [
    {
     "name": "stdout",
     "output_type": "stream",
     "text": [
      "              meantemp  humidity  wind_speed  meanpressure\n",
      "meantemp      1.000000 -0.573635    0.306203     -0.878969\n",
      "humidity     -0.573635  1.000000   -0.374614      0.332819\n",
      "wind_speed    0.306203 -0.374614    1.000000     -0.294541\n",
      "meanpressure -0.878969  0.332819   -0.294541      1.000000\n"
     ]
    },
    {
     "name": "stderr",
     "output_type": "stream",
     "text": [
      "/var/folders/30/bxcxv8sj19z2tjt6271b_g9m0000gn/T/ipykernel_14516/1550695401.py:1: FutureWarning: The default value of numeric_only in DataFrame.corr is deprecated. In a future version, it will default to False. Select only valid columns or specify the value of numeric_only to silence this warning.\n",
      "  correlation_matrix = train_dataset.corr()\n"
     ]
    }
   ],
   "source": [
    "correlation_matrix = train_dataset.corr()\n",
    "print(correlation_matrix)"
   ]
  },
  {
   "attachments": {},
   "cell_type": "markdown",
   "metadata": {},
   "source": [
    "It can be seen that the input features (humidity, wind speed and mean pressure) do not have high correlations with one another and thus they are rather independent."
   ]
  },
  {
   "cell_type": "code",
   "execution_count": 79,
   "metadata": {},
   "outputs": [
    {
     "data": {
      "text/plain": [
       "(1458, 4)"
      ]
     },
     "execution_count": 79,
     "metadata": {},
     "output_type": "execute_result"
    }
   ],
   "source": [
    "feature_set = final_dataset.iloc[:,1:]\n",
    "out_feature_index = 0 #meantemp\n",
    "feature_set.shape"
   ]
  },
  {
   "cell_type": "code",
   "execution_count": 80,
   "metadata": {},
   "outputs": [
    {
     "data": {
      "text/html": [
       "<div>\n",
       "<style scoped>\n",
       "    .dataframe tbody tr th:only-of-type {\n",
       "        vertical-align: middle;\n",
       "    }\n",
       "\n",
       "    .dataframe tbody tr th {\n",
       "        vertical-align: top;\n",
       "    }\n",
       "\n",
       "    .dataframe thead th {\n",
       "        text-align: right;\n",
       "    }\n",
       "</style>\n",
       "<table border=\"1\" class=\"dataframe\">\n",
       "  <thead>\n",
       "    <tr style=\"text-align: right;\">\n",
       "      <th></th>\n",
       "      <th>meantemp</th>\n",
       "      <th>humidity</th>\n",
       "      <th>wind_speed</th>\n",
       "      <th>meanpressure</th>\n",
       "    </tr>\n",
       "  </thead>\n",
       "  <tbody>\n",
       "    <tr>\n",
       "      <th>0</th>\n",
       "      <td>10.000000</td>\n",
       "      <td>84.500000</td>\n",
       "      <td>0.000000</td>\n",
       "      <td>1015.666667</td>\n",
       "    </tr>\n",
       "    <tr>\n",
       "      <th>1</th>\n",
       "      <td>7.400000</td>\n",
       "      <td>92.000000</td>\n",
       "      <td>2.980000</td>\n",
       "      <td>1017.800000</td>\n",
       "    </tr>\n",
       "    <tr>\n",
       "      <th>2</th>\n",
       "      <td>7.166667</td>\n",
       "      <td>87.000000</td>\n",
       "      <td>4.633333</td>\n",
       "      <td>1018.666667</td>\n",
       "    </tr>\n",
       "    <tr>\n",
       "      <th>3</th>\n",
       "      <td>8.666667</td>\n",
       "      <td>71.333333</td>\n",
       "      <td>1.233333</td>\n",
       "      <td>1017.166667</td>\n",
       "    </tr>\n",
       "    <tr>\n",
       "      <th>4</th>\n",
       "      <td>6.000000</td>\n",
       "      <td>86.833333</td>\n",
       "      <td>3.700000</td>\n",
       "      <td>1016.500000</td>\n",
       "    </tr>\n",
       "    <tr>\n",
       "      <th>...</th>\n",
       "      <td>...</td>\n",
       "      <td>...</td>\n",
       "      <td>...</td>\n",
       "      <td>...</td>\n",
       "    </tr>\n",
       "    <tr>\n",
       "      <th>1457</th>\n",
       "      <td>17.217391</td>\n",
       "      <td>68.043478</td>\n",
       "      <td>3.547826</td>\n",
       "      <td>1015.565217</td>\n",
       "    </tr>\n",
       "    <tr>\n",
       "      <th>1458</th>\n",
       "      <td>15.238095</td>\n",
       "      <td>87.857143</td>\n",
       "      <td>6.000000</td>\n",
       "      <td>1016.904762</td>\n",
       "    </tr>\n",
       "    <tr>\n",
       "      <th>1459</th>\n",
       "      <td>14.095238</td>\n",
       "      <td>89.666667</td>\n",
       "      <td>6.266667</td>\n",
       "      <td>1017.904762</td>\n",
       "    </tr>\n",
       "    <tr>\n",
       "      <th>1460</th>\n",
       "      <td>15.052632</td>\n",
       "      <td>87.000000</td>\n",
       "      <td>7.325000</td>\n",
       "      <td>1016.100000</td>\n",
       "    </tr>\n",
       "    <tr>\n",
       "      <th>1461</th>\n",
       "      <td>10.000000</td>\n",
       "      <td>100.000000</td>\n",
       "      <td>0.000000</td>\n",
       "      <td>1016.000000</td>\n",
       "    </tr>\n",
       "  </tbody>\n",
       "</table>\n",
       "<p>1458 rows × 4 columns</p>\n",
       "</div>"
      ],
      "text/plain": [
       "       meantemp    humidity  wind_speed  meanpressure\n",
       "0     10.000000   84.500000    0.000000   1015.666667\n",
       "1      7.400000   92.000000    2.980000   1017.800000\n",
       "2      7.166667   87.000000    4.633333   1018.666667\n",
       "3      8.666667   71.333333    1.233333   1017.166667\n",
       "4      6.000000   86.833333    3.700000   1016.500000\n",
       "...         ...         ...         ...           ...\n",
       "1457  17.217391   68.043478    3.547826   1015.565217\n",
       "1458  15.238095   87.857143    6.000000   1016.904762\n",
       "1459  14.095238   89.666667    6.266667   1017.904762\n",
       "1460  15.052632   87.000000    7.325000   1016.100000\n",
       "1461  10.000000  100.000000    0.000000   1016.000000\n",
       "\n",
       "[1458 rows x 4 columns]"
      ]
     },
     "execution_count": 80,
     "metadata": {},
     "output_type": "execute_result"
    }
   ],
   "source": [
    "feature_set"
   ]
  },
  {
   "attachments": {},
   "cell_type": "markdown",
   "metadata": {},
   "source": [
    "We scale the data within the range 0 to 1 using MinMaxScaler and create 2 datasets (one containing all the 4 features, one containing only the mean temperatures). For the output set, the reshape function is needed as the scaler expects a 2D array.\n",
    "\n",
    "We examined the scaled data in a csv file to ensure that values are normalized within each column and not across all columns.\n",
    "\n",
    "Purpose of normalization is so that during gradient descent, the model will be able to converge better to a minimum. If the features had different ranges, their gradients will vary and the rate of change of the cost function with respect to each feature will be different. A unit change for a feature with smaller range will have a smaller impact on the cost function."
   ]
  },
  {
   "cell_type": "code",
   "execution_count": 87,
   "metadata": {},
   "outputs": [
    {
     "name": "stdout",
     "output_type": "stream",
     "text": [
      "[[0.12227074 0.8209571  0.         0.76811594]\n",
      " [0.04279476 0.90759076 0.07058266 0.83557312]\n",
      " [0.0356623  0.84983498 0.10974262 0.8629776 ]\n",
      " ...\n",
      " [0.24745269 0.88063806 0.14842886 0.83888575]\n",
      " [0.276718   0.84983498 0.17349597 0.78181818]\n",
      " [0.12227074 1.         0.         0.77865613]]\n",
      "[0.12227074 0.04279476 0.0356623  ... 0.24745269 0.276718   0.12227074]\n"
     ]
    }
   ],
   "source": [
    "from sklearn.preprocessing import MinMaxScaler\n",
    "\n",
    "scaler = MinMaxScaler()\n",
    "\n",
    "scaled_data = feature_set\n",
    "\n",
    "for column in scaled_data.columns:\n",
    "    scaled_data[column] = scaler.fit_transform(scaled_data[column].values.reshape(-1, 1))\n",
    "    \n",
    "yscaled_data = scaled_data.iloc[:,0]    \n",
    "\n",
    "scaled_data.to_csv('scaled_data_delhi_climate.csv', index=False)\n",
    "\n",
    "scaled_data = scaled_data.to_numpy()\n",
    "yscaled_data = yscaled_data.to_numpy()\n",
    "\n",
    "print(scaled_data)\n",
    "print(yscaled_data)\n",
    "\n",
    "# scaler expects 2d --> needs reshape\n",
    "# The -1 in the first dimension indicates that the resulting array should have a size that is automatically determined to ensure that all the elements are included.\n",
    "# The 1 in the second dimension indicates that the resulting array should have a single column.\n",
    "# The purpose of this reshaping is to convert a 1-dimensional array (shape (n,)) into a 2-dimensional array with a single column (shape (n, 1)).\n"
   ]
  },
  {
   "attachments": {},
   "cell_type": "markdown",
   "metadata": {},
   "source": [
    "## Setting of Hyperparameters\n",
    "\n",
    "Input size represents the number of features.\n",
    "\n",
    "Sequence length (x) refers to of x days worth of data prior to the present value.\n",
    "\n",
    "We use 2 layers of LSTM of size 256 nodes. Learning rate is set to 0.001. Batch size is set to 16.\n",
    "\n",
    "The number of epochs (10) defines the number times that the learning algorithm will work through the entire training dataset"
   ]
  },
  {
   "cell_type": "code",
   "execution_count": 82,
   "metadata": {},
   "outputs": [],
   "source": [
    "# hyperparameters\n",
    "\n",
    "input_size = 4   # num_features\n",
    "sequence_length = 30   #blocksize\n",
    "\n",
    "num_layers = 2\n",
    "hidden_size = 256\n",
    "learning_rate = 0.001\n",
    "batch_size = 16\n",
    "num_epochs = 10"
   ]
  },
  {
   "cell_type": "markdown",
   "metadata": {},
   "source": [
    "We separate the data into training data and validation data with a 80:20 split."
   ]
  },
  {
   "cell_type": "code",
   "execution_count": 104,
   "metadata": {},
   "outputs": [
    {
     "name": "stdout",
     "output_type": "stream",
     "text": [
      "(1427, 30, 4)\n",
      "(1166, 30, 4)\n",
      "(261, 30, 4)\n",
      "(1166,)\n",
      "(261,)\n"
     ]
    }
   ],
   "source": [
    "x_train_data,y_train_data=[],[]\n",
    "x_val_data,y_val_data=[],[]\n",
    "\n",
    "all_data_index = np.array([range(i, i + sequence_length) for i in range(len(scaled_data)-sequence_length-1)])\n",
    "x_data = scaled_data[all_data_index,:]\n",
    "x_train_data = x_data[:int(len(scaled_data)*0.8), :]\n",
    "x_val_data = x_data[int(len(scaled_data)*0.8):, :]\n",
    "y_train_data = yscaled_data[sequence_length+1:int(len(scaled_data)*0.8)+sequence_length+1]\n",
    "y_val_data = yscaled_data[int(len(scaled_data)*0.8)+sequence_length+1:]\n",
    "\n",
    "print(x_data.shape)\n",
    "print(x_train_data.shape)\n",
    "print(x_val_data.shape)\n",
    "print(y_train_data.shape)\n",
    "print(y_val_data.shape)"
   ]
  },
  {
   "cell_type": "code",
   "execution_count": null,
   "metadata": {},
   "outputs": [],
   "source": [
    "'''\n",
    "x_train_data,y_train_data=[],[]\n",
    "x_val_data,y_val_data=[],[]\n",
    "\n",
    "for i in range(sequence_length, len(scaled_data)):\n",
    "    if i < int(len(scaled_data)*0.8):\n",
    "        x_train_data.append(scaled_data[i - sequence_length : i,  :])\n",
    "        y_train_data.append(yscaled_data[i])\n",
    "        \n",
    "    else:\n",
    "        x_val_data.append(scaled_data[i - sequence_length : i,  :])\n",
    "        y_val_data.append(yscaled_data[i])        \n",
    "    \n",
    "x_train_data,y_train_data=np.array(x_train_data),np.array(y_train_data)\n",
    "x_val_data,y_val_data=np.array(x_val_data),np.array(y_val_data)\n",
    "\n",
    "print(x_train_data.shape)\n",
    "print(y_train_data.shape)\n",
    "print(x_val_data.shape)\n",
    "print(y_val_data.shape)\n",
    "'''"
   ]
  },
  {
   "cell_type": "markdown",
   "metadata": {},
   "source": [
    "## Creating the LSTM Model\n",
    "\n",
    "First, we inherit the nn.Module within PyTorch which is a class created for general neural networks to create the LSTM class.\n",
    "\n",
    "Then, the initialisation method is created.\n",
    "\n",
    "super calls the initialization method of parents class nn.Module. It takes in two parameters: the first is the subclass, and the second parameter is an object that is an instance of that subclass\n",
    "\n",
    "The LSTM layers are created:\n",
    "batch_first --> If True, then the input and output tensors are provided as (batch, seq, feature) instead of (seq, batch, feature)\n",
    "bidirectional --> If True, becomes a bidirectional LSTM\n",
    "\n",
    "A final fully connected layer is created. The hidden size needs to be multiplied by 2 because one layer going forward and the other going backward.\n",
    "\n",
    "Last, we define the forward pass method.\n",
    "\n",
    "We need to define the hidden state and cell state for each node to be sent to the LSTM which we instantiate as a 3D zero tensor.\n",
    "\n",
    "The number of layers need to be multiplied by 2 because one layer going forward and the other going backward but they are all concatenated for the same hidden state. x.size(0) is the number of examples in a batch size. \n",
    "\n",
    "We take the last output hidden layer of the LSTM and send it to the linear layer."
   ]
  },
  {
   "attachments": {},
   "cell_type": "markdown",
   "metadata": {},
   "source": [
    "Here, we initialise the hidden state and cell state to be tensors of zeroes because:\n",
    "\n",
    "1. random initialisation: useful when the model needs to learn a wide range of patterns or when the task requires exploring multiple solutions, which is not applicable here\n",
    "\n",
    "2. learned initialisation: insufficient training data to learn the initial states accurately and unsure if initial states carry important task-specific information\n",
    "\n",
    "3. pre-trained initialisation: requires pre-trained weights or representations from a similar task or domain\n",
    "\n",
    "4. domain-specific initialisation: requires domain knowledge (eg. initializing the states based on historical trends or seasonality)\n",
    "\n",
    "zeroes initialisation works well in many scenarios, especially when the data doesn't exhibit any specific patterns or long-term dependencies.  "
   ]
  },
  {
   "cell_type": "code",
   "execution_count": null,
   "metadata": {},
   "outputs": [],
   "source": [
    "class LSTM(nn.Module):\n",
    "    def __init__(self, input_size, hidden_size, num_layers):\n",
    "        super(LSTM, self).__init__()\n",
    "        self.input_size = input_size\n",
    "        self.hidden_size = hidden_size\n",
    "        self.num_layers = num_layers\n",
    "        \n",
    "        self.lstm = nn.LSTM(input_size, hidden_size, num_layers, batch_first = True, bidirectional = True)\n",
    "        self.fc = nn.Linear(hidden_size * 2, 1)\n",
    "        \n",
    "    def forward(self, x):\n",
    "\n",
    "        h0 = torch.zeros(self.num_layers * 2, x.size(0), self.hidden_size).to(device) \n",
    "        c0 = torch.zeros(self.num_layers * 2, x.size(0), self.hidden_size).to(device)\n",
    "        \n",
    "        out, (hidden_state, cell_state) = self.lstm(x, (h0, c0))   # only output is used here\n",
    "        out = self.fc(out[:, -1, :])\n",
    "        \n",
    "        return out"
   ]
  },
  {
   "cell_type": "markdown",
   "metadata": {},
   "source": [
    "The model is sent to the device."
   ]
  },
  {
   "cell_type": "code",
   "execution_count": null,
   "metadata": {},
   "outputs": [],
   "source": [
    "model = LSTM(input_size=input_size, hidden_size=hidden_size, num_layers=num_layers).to(device)"
   ]
  },
  {
   "cell_type": "markdown",
   "metadata": {},
   "source": [
    "## Criterion and Optimizer\n",
    "\n",
    "The MSELoss loss criterion is used as this is a regression problem where the output is a continuous value and we can use mean-squared-error to calculate the loss function. The model will aim to minimize the average squared distance between predicted and true values and penalizes larger errors more heavily than smaller errors due to the squaring operation.\n",
    "\n",
    "Adam (Adaptive Moment Estimation) optimizer adapts the learning rate for each parameter based on its gradients and past updates. It computes separate learning rates for different parameters, allowing the optimizer to adjust the learning rates dynamically during training. This helps with faster convergence during back propagation.\n",
    "\n",
    "parameters() function was from inhertied nn.Module class\n",
    "When a Parameter is associated with a module as a model attribute, it gets added to the parameter list automatically and can be accessed using the 'parameters' iterator. They are the weights and biases of the model for each layer and their connections."
   ]
  },
  {
   "cell_type": "code",
   "execution_count": null,
   "metadata": {},
   "outputs": [],
   "source": [
    "criterion = nn.MSELoss()\n",
    "optimizer = optim.Adam(model.parameters(), lr=learning_rate)  "
   ]
  },
  {
   "cell_type": "markdown",
   "metadata": {},
   "source": [
    "Convert the numpy arrays of data into tensors and load them into DataLoader to create batches.\n",
    "\n",
    "shuffle=False is used as we do not want to disrupt the temporal element of the data."
   ]
  },
  {
   "cell_type": "markdown",
   "metadata": {},
   "source": [
    "## Kevin's Comments\n",
    "\n",
    "You have to set the data to device.  That means use .to_device() function.  If not your data will reside in CPU and your model in GPU.  It might cause an error to occur."
   ]
  },
  {
   "cell_type": "code",
   "execution_count": null,
   "metadata": {},
   "outputs": [],
   "source": [
    "train_x = torch.tensor(x_train_data, dtype=torch.float32).to(device)\n",
    "train_y = torch.tensor(y_train_data, dtype=torch.float32).to(device)\n",
    "val_x = torch.tensor(x_val_data, dtype=torch.float32).to(device)\n",
    "val_y = torch.tensor(y_val_data, dtype=torch.float32).to(device)\n",
    "\n",
    "train_dataset = TensorDataset(train_x, train_y)\n",
    "val_dataset = TensorDataset(val_x, val_y)\n",
    "\n",
    "train_loader = DataLoader(train_dataset, batch_size=batch_size, shuffle=False)\n",
    "val_loader = DataLoader(val_dataset, batch_size=batch_size)"
   ]
  },
  {
   "cell_type": "markdown",
   "metadata": {},
   "source": [
    "## Define the function for training per epoch\n",
    "\n",
    "We use enumerate(training_loader) instead of iter(training_loader) so that we can track the batch index and do some intra-epoch reporting. Each data instance is an input + label pair.\n",
    "\n",
    "We need to zero the gradients for every batch to prevent gradient accumulation across different batches (only want to aggregate within a batch).\n",
    "\n",
    "outputs = model(batch_x) --> predictions are made for the batch \n",
    "\n",
    "loss = criterion(outputs.squeeze(), batch_y) --> loss is calculated\n",
    "\n",
    "loss.backward() --> computes the partial derivative of the output f with respect to each of the input variables.\n",
    "\n",
    "optimizer.step() --> adam step and updates the parameters\n",
    "\n",
    "Next, we retrieve the scalar cvalue of the loss function for the current batch and print out the loss every 10 batches.\n",
    "\n",
    "tb_x = epoch_index * len(train_loader) + index + 1: This line calculates the value for the x-axis of a scalar summary in TensorBoard. It combines the current epoch index (epoch_index), the total number of batches per epoch (len(train_loader)), and the current batch index (index + 1) to get a unique value that represents the progress of training.\n",
    "\n",
    "tb_writer.add_scalar('Loss/train', last_loss, tb_x): This line adds a scalar summary to a TensorBoard writer (tb_writer is an instance of SummaryWriter). It logs the training loss (last_loss) under the tag 'Loss/train' at the x-axis value specified by tb_x\n",
    "\n",
    "Finally, the running loss is reset for the next set of 10 batches"
   ]
  },
  {
   "cell_type": "code",
   "execution_count": null,
   "metadata": {},
   "outputs": [],
   "source": [
    "def train_one_epoch(epoch_index, tb_writer):\n",
    "    running_loss = 0.\n",
    "    last_loss = 0.\n",
    "\n",
    "    for index, data in enumerate(train_loader):\n",
    "\n",
    "        batch_x, batch_y = data\n",
    "\n",
    "        optimizer.zero_grad()\n",
    "\n",
    "        outputs = model(batch_x)\n",
    "\n",
    "        loss = criterion(outputs.squeeze(), batch_y)\n",
    "        loss.backward()\n",
    "\n",
    "        optimizer.step()\n",
    "\n",
    "\n",
    "        running_loss += loss.item() \n",
    "        if index % 10 == 9: \n",
    "            last_loss = running_loss / 10 # loss per batch\n",
    "            print(f'  batch {index + 1} loss: {last_loss}')\n",
    "            tb_x = epoch_index * len(train_loader) + index + 1 \n",
    "            tb_writer.add_scalar('Loss/train', last_loss, tb_x)\n",
    "            running_loss = 0\n",
    "\n",
    "    return last_loss #last calculated batch loss"
   ]
  },
  {
   "attachments": {},
   "cell_type": "markdown",
   "metadata": {},
   "source": [
    "## Returning the Results\n",
    "\n",
    "First, the SummaryWriter is instantiated.\n",
    "\n",
    "We set model to training mode to make sure that:\n",
    "1. batch normalization or dropout layers are in effect\n",
    "2. enables autograd tracking, which means that the model keeps track of the operations performed during the forward pass to calculate gradients during backpropagation. This allows the model to update its parameters based on the computed gradients.\n",
    "\n",
    "We use the training function to run for one epoch.\n",
    "\n",
    "The model is set back to evaluation mode as gradients are unnecessary for reporting of results on validation set.\n",
    "\n",
    "We then repeat the process of calculating the error and reporting it once for one epoch and also the average loss for the training set.\n",
    "\n",
    "When logging the train and validation losses for plotting of grpah later, we convert the calues to floats as the pytorch tensors are associated with gradients used for backpropogation and cannot be converted to nump for plotting of graphs.\n",
    "\n",
    "We can log the results into Tensorboard and also save the model's state when it produces a new best performance.\n"
   ]
  },
  {
   "cell_type": "code",
   "execution_count": null,
   "metadata": {},
   "outputs": [
    {
     "name": "stdout",
     "output_type": "stream",
     "text": [
      "EPOCH 1:\n"
     ]
    },
    {
     "name": "stderr",
     "output_type": "stream",
     "text": [
      "/Users/pirey/miniconda3/lib/python3.10/site-packages/torch/nn/modules/loss.py:536: UserWarning: Using a target size (torch.Size([16, 1])) that is different to the input size (torch.Size([16])). This will likely lead to incorrect results due to broadcasting. Please ensure they have the same size.\n",
      "  return F.mse_loss(input, target, reduction=self.reduction)\n"
     ]
    },
    {
     "name": "stdout",
     "output_type": "stream",
     "text": [
      "  batch 10 loss: 0.060085167782381176\n",
      "  batch 20 loss: 0.03982104284223169\n",
      "  batch 30 loss: 0.11364949294365942\n",
      "  batch 40 loss: 0.1385789757128805\n",
      "  batch 50 loss: 0.10165128586813807\n",
      "  batch 60 loss: 0.09978991355746984\n",
      "  batch 70 loss: 0.06133284225361422\n"
     ]
    },
    {
     "name": "stderr",
     "output_type": "stream",
     "text": [
      "/Users/pirey/miniconda3/lib/python3.10/site-packages/torch/nn/modules/loss.py:536: UserWarning: Using a target size (torch.Size([5, 1])) that is different to the input size (torch.Size([5])). This will likely lead to incorrect results due to broadcasting. Please ensure they have the same size.\n",
      "  return F.mse_loss(input, target, reduction=self.reduction)\n",
      "/Users/pirey/miniconda3/lib/python3.10/site-packages/torch/nn/modules/loss.py:536: UserWarning: Using a target size (torch.Size([1, 1])) that is different to the input size (torch.Size([])). This will likely lead to incorrect results due to broadcasting. Please ensure they have the same size.\n",
      "  return F.mse_loss(input, target, reduction=self.reduction)\n"
     ]
    },
    {
     "name": "stdout",
     "output_type": "stream",
     "text": [
      "LOSS: train 0.06133284225361422 validation 0.0338108167052269\n",
      "EPOCH 2:\n",
      "  batch 10 loss: 0.054164642188698056\n",
      "  batch 20 loss: 0.03647559238597751\n",
      "  batch 30 loss: 0.03370696604251862\n",
      "  batch 40 loss: 0.030048933532088994\n",
      "  batch 50 loss: 0.011748242937028409\n",
      "  batch 60 loss: 0.024925142782740294\n",
      "  batch 70 loss: 0.011819791374728083\n",
      "LOSS: train 0.011819791374728083 validation 0.015135067515075207\n",
      "EPOCH 3:\n",
      "  batch 10 loss: 0.011049727001227439\n",
      "  batch 20 loss: 0.015581645490601658\n",
      "  batch 30 loss: 0.01775021110661328\n",
      "  batch 40 loss: 0.01793773453682661\n",
      "  batch 50 loss: 0.014490252267569304\n",
      "  batch 60 loss: 0.015545237855985761\n",
      "  batch 70 loss: 0.007673887722194195\n",
      "LOSS: train 0.007673887722194195 validation 0.039797618985176086\n",
      "EPOCH 4:\n",
      "  batch 10 loss: 0.009920149785466492\n",
      "  batch 20 loss: 0.009894272335805\n",
      "  batch 30 loss: 0.017029294557869435\n",
      "  batch 40 loss: 0.019589408440515398\n",
      "  batch 50 loss: 0.011098471144214273\n",
      "  batch 60 loss: 0.01839047153480351\n",
      "  batch 70 loss: 0.008582416211720557\n",
      "LOSS: train 0.008582416211720557 validation 0.045180171728134155\n",
      "EPOCH 5:\n",
      "  batch 10 loss: 0.006942878128029406\n",
      "  batch 20 loss: 0.007869021384976804\n",
      "  batch 30 loss: 0.016758665163069963\n",
      "  batch 40 loss: 0.01115718053188175\n",
      "  batch 50 loss: 0.008155550202354788\n",
      "  batch 60 loss: 0.007567543629556894\n",
      "  batch 70 loss: 0.006724058196414262\n",
      "LOSS: train 0.006724058196414262 validation 0.032072871923446655\n",
      "EPOCH 6:\n",
      "  batch 10 loss: 0.0062407852383330464\n",
      "  batch 20 loss: 0.00434302045032382\n",
      "  batch 30 loss: 0.005596724746283144\n",
      "  batch 40 loss: 0.005049633095040917\n",
      "  batch 50 loss: 0.006660439155530185\n",
      "  batch 60 loss: 0.007500500348396599\n",
      "  batch 70 loss: 0.0058109797304496166\n",
      "LOSS: train 0.0058109797304496166 validation 0.007607114966958761\n",
      "EPOCH 7:\n",
      "  batch 10 loss: 0.007032962038647383\n",
      "  batch 20 loss: 0.004418750200420618\n",
      "  batch 30 loss: 0.013346817484125495\n",
      "  batch 40 loss: 0.012168178195133805\n",
      "  batch 50 loss: 0.013983294344507157\n",
      "  batch 60 loss: 0.022073628194630147\n",
      "  batch 70 loss: 0.0120905929710716\n",
      "LOSS: train 0.0120905929710716 validation 0.024108702316880226\n",
      "EPOCH 8:\n",
      "  batch 10 loss: 0.013363838964141905\n",
      "  batch 20 loss: 0.009844923811033367\n",
      "  batch 30 loss: 0.006897335627581924\n",
      "  batch 40 loss: 0.00888855846133083\n",
      "  batch 50 loss: 0.009274312038905918\n",
      "  batch 60 loss: 0.01157076673116535\n",
      "  batch 70 loss: 0.007983684283681214\n",
      "LOSS: train 0.007983684283681214 validation 0.006582035683095455\n",
      "EPOCH 9:\n",
      "  batch 10 loss: 0.006410055537708103\n",
      "  batch 20 loss: 0.005482982937246561\n",
      "  batch 30 loss: 0.012059489917010068\n",
      "  batch 40 loss: 0.010393973207101226\n",
      "  batch 50 loss: 0.007745907857315615\n",
      "  batch 60 loss: 0.010308877564966679\n",
      "  batch 70 loss: 0.006851540214847773\n",
      "LOSS: train 0.006851540214847773 validation 0.026480697095394135\n",
      "EPOCH 10:\n",
      "  batch 10 loss: 0.005933334748260677\n",
      "  batch 20 loss: 0.0057868337724357845\n",
      "  batch 30 loss: 0.00935515712480992\n",
      "  batch 40 loss: 0.005165159783791751\n",
      "  batch 50 loss: 0.006170360022224486\n",
      "  batch 60 loss: 0.005963383067864925\n",
      "  batch 70 loss: 0.006192018504953012\n",
      "LOSS: train 0.006192018504953012 validation 0.007702104281634092\n"
     ]
    }
   ],
   "source": [
    "timestamp = datetime.now().strftime('%Y%m%d_%H%M%S')\n",
    "writer = SummaryWriter(f'runs/Delhi_temp_trainer_{timestamp}')\n",
    "epoch_number = 0\n",
    "\n",
    "train_losses = []\n",
    "val_losses = []\n",
    "\n",
    "best_vloss = 1_000_000.\n",
    "\n",
    "for epoch in range(num_epochs):\n",
    "    print(f'EPOCH {epoch_number + 1}:')\n",
    "\n",
    "    model.train(True)\n",
    "    avg_loss = train_one_epoch(epoch_number, writer) \n",
    "\n",
    "    model.eval()\n",
    "\n",
    "    running_vloss = 0.0\n",
    "    for index, vdata in enumerate(val_loader):\n",
    "        vbatch_x, vbatch_y = vdata\n",
    "        voutputs = model(vbatch_x)\n",
    "        vloss = criterion(voutputs.squeeze(), vbatch_y)\n",
    "        running_vloss += vloss\n",
    "\n",
    "    avg_vloss = running_vloss / (index + 1)\n",
    "    print(f'LOSS: train {avg_loss} validation {avg_vloss}')\n",
    "\n",
    "    # Log the running loss averaged per batch\n",
    "    # for both training and validation\n",
    "    writer.add_scalars('Training vs. Validation Loss',\n",
    "                    { 'Training' : avg_loss, 'Validation' : avg_vloss },\n",
    "                    epoch_number + 1)\n",
    "    writer.flush()\n",
    "    \n",
    "    writer.close()\n",
    "    \n",
    "    train_losses.append(float(avg_loss))\n",
    "    val_losses.append(float(avg_vloss))\n",
    "    \n",
    "    '''\n",
    "    # Track best performance, and save the model's state\n",
    "    if avg_vloss < best_vloss:\n",
    "        best_vloss = avg_vloss\n",
    "        model_path = f'model_{timestamp}_{epoch_number}'\n",
    "        torch.save(model.state_dict(), model_path)\n",
    "    '''\n",
    "    epoch_number += 1"
   ]
  },
  {
   "cell_type": "markdown",
   "metadata": {},
   "source": [
    "As we can see from the results above, the loss decreases as the model gets trained over more epochs."
   ]
  },
  {
   "cell_type": "code",
   "execution_count": null,
   "metadata": {},
   "outputs": [
    {
     "data": {
      "image/png": "[encoded data removed]",
      "text/plain": [
       "<Figure size 640x480 with 1 Axes>"
      ]
     },
     "metadata": {},
     "output_type": "display_data"
    }
   ],
   "source": [
    "epochs = range(1, num_epochs + 1)\n",
    "plt.plot(epochs, train_losses, label='Training Loss')\n",
    "plt.plot(epochs, val_losses, label='Validation Loss')\n",
    "plt.xlabel('Epochs')\n",
    "plt.ylabel('Loss')\n",
    "plt.title('Training and Validation Loss')\n",
    "plt.legend()\n",
    "plt.show()"
   ]
  },
  {
   "cell_type": "markdown",
   "metadata": {},
   "source": [
    "## Checking the MSE of Model\n",
    "\n",
    "As this is for evaluation, it is not necessary to optimise with gradients as this will waste time and thus we use torch.no_grad()\n",
    "\n",
    "Here, we need to unscale the data to calculate the actual MSE of the results and thus we use the inverse_transform function of the scaler.\n",
    "\n",
    "'loss' contains the sum of MSE values of all the outputs within the batch\n",
    "\n",
    "Sum the loss over all the batches and devide by the number of samples.\n",
    "\n",
    "The overall MSE is reported."
   ]
  },
  {
   "cell_type": "code",
   "execution_count": null,
   "metadata": {},
   "outputs": [],
   "source": [
    "def check_mse(loader,model): \n",
    "    if loader == train_loader: \n",
    "        print(\"checking mse on training data\")\n",
    "    else:\n",
    "        print(\"checking mse on test data\")\n",
    "    overall_loss = 0\n",
    "    num_samples = 0\n",
    "    model.eval()\n",
    "    \n",
    "    with torch.no_grad(): \n",
    "        for x,y in loader:\n",
    "            x= x.to(device=device)\n",
    "            y= y.to(device=device)\n",
    "            \n",
    "            outputs = model(x)\n",
    "            unscaled_outputs = scaler.inverse_transform(np.array(outputs))\n",
    "            unscaled_y = scaler.inverse_transform(np.array(y))\n",
    "            \n",
    "            unscaled_outputs = torch.from_numpy(unscaled_outputs)\n",
    "            unscaled_y = torch.from_numpy(unscaled_y)            \n",
    "            \n",
    "            loss = F.mse_loss(unscaled_outputs,unscaled_y,reduction='sum')\n",
    "            \n",
    "            overall_loss += loss.item()\n",
    "            num_samples += x.size(0)\n",
    "\n",
    "        mse = overall_loss / num_samples\n",
    "        print(f\"MSE: {mse:.4f}\")\n",
    "        \n",
    "    model.train()"
   ]
  },
  {
   "cell_type": "code",
   "execution_count": null,
   "metadata": {},
   "outputs": [
    {
     "name": "stdout",
     "output_type": "stream",
     "text": [
      "checking mse on training data\n",
      "MSE: 4.7007\n",
      "checking mse on test data\n",
      "MSE: 5.7355\n"
     ]
    }
   ],
   "source": [
    "check_mse(train_loader,model)\n",
    "check_mse(val_loader,model)"
   ]
  },
  {
   "attachments": {},
   "cell_type": "markdown",
   "metadata": {},
   "source": [
    "The mean squared error is around 1/4 of the mean value for mean temperature for the bi-directional LSTM model, which is rather large.\n",
    "\n",
    "However, put into context, the values show that the temperature predictions vary about 2-3 degrees on average, which is rather acceptable."
   ]
  },
  {
   "cell_type": "markdown",
   "metadata": {},
   "source": [
    "## Kevin's Comments\n",
    "\n",
    "1. It's a good practice to plot the train test loss. Extract the graph from tensorboard here.  There are other functions in tensorboard.  Learn how to use those.<br>\n",
    "2. Explain why do you think the MSE is low?   Relative to what?<br>"
   ]
  },
  {
   "attachments": {},
   "cell_type": "markdown",
   "metadata": {},
   "source": [
    "tensorboard --logdir=runs\n",
    "\n"
   ]
  }
 ],
 "metadata": {
  "kernelspec": {
   "display_name": "Python 3 (ipykernel)",
   "language": "python",
   "name": "python3"
  },
  "language_info": {
   "codemirror_mode": {
    "name": "ipython",
    "version": 3
   },
   "file_extension": ".py",
   "mimetype": "text/x-python",
   "name": "python",
   "nbconvert_exporter": "python",
   "pygments_lexer": "ipython3",
   "version": "3.10.9"
  }
 },
 "nbformat": 4,
 "nbformat_minor": 2
}
